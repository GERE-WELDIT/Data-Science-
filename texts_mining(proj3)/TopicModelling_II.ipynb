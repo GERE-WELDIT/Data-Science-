{
  "nbformat": 4,
  "nbformat_minor": 0,
  "metadata": {
    "colab": {
      "name": "TopicModelling_part2.ipynb",
      "provenance": [],
      "collapsed_sections": []
    },
    "kernelspec": {
      "name": "python3",
      "display_name": "Python 3"
    },
    "accelerator": "GPU"
  },
  "cells": [
    {
      "cell_type": "code",
      "metadata": {
        "id": "txzt3HoPoRVj",
        "colab_type": "code",
        "colab": {
          "base_uri": "https://localhost:8080/",
          "height": 1000
        },
        "outputId": "2e893aba-7f97-4c38-d84d-012448bac963",
        "tags": [
          "outputPrepend"
        ]
      },
      "source": [
        "import nltk \n",
        "nltk.download('all')   # no need to download all packages: 'stem' would be enough.\n",
        "from nltk.stem import WordNetLemmatizer\n",
        "import re    # regular expression\n",
        "!pip install numpy\n",
        "import numpy as np\n",
        "import pandas as pd\n",
        "from pprint import pprint  # prettier print\n",
        "import gensim       # Gensim\n",
        "import gensim.corpora as corpora\n",
        "from gensim.utils import simple_preprocess\n",
        "from gensim.models import CoherenceModel\n",
        "# Plotting tools\n",
        "!pip install pyLDAvis\n",
        "import pyLDAvis\n",
        "import pyLDAvis.gensim  \n",
        "import matplotlib.pyplot as plt\n",
        "%matplotlib inline\n",
        "import pickle\n",
        "\n",
        "# disable any gensim warnings\n",
        "import warnings\n",
        "warnings.filterwarnings(action='ignore', category=UserWarning, module='gensim')\n"
      ],
      "execution_count": 1,
      "outputs": [
        {
          "output_type": "stream",
          "name": "stderr",
          "text": "nk to\n[nltk_data]    |     C:\\Users\\ku-team\\AppData\\Roaming\\nltk_data...\n[nltk_data]    |   Package dependency_treebank is already up-to-date!\n[nltk_data]    | Downloading package dolch to C:\\Users\\ku-\n[nltk_data]    |     team\\AppData\\Roaming\\nltk_data...\n[nltk_data]    |   Package dolch is already up-to-date!\n[nltk_data]    | Downloading package europarl_raw to C:\\Users\\ku-\n[nltk_data]    |     team\\AppData\\Roaming\\nltk_data...\n[nltk_data]    |   Package europarl_raw is already up-to-date!\n[nltk_data]    | Downloading package floresta to C:\\Users\\ku-\n[nltk_data]    |     team\\AppData\\Roaming\\nltk_data...\n[nltk_data]    |   Package floresta is already up-to-date!\n[nltk_data]    | Downloading package framenet_v15 to C:\\Users\\ku-\n[nltk_data]    |     team\\AppData\\Roaming\\nltk_data...\n[nltk_data]    |   Package framenet_v15 is already up-to-date!\n[nltk_data]    | Downloading package framenet_v17 to C:\\Users\\ku-\n[nltk_data]    |     team\\AppData\\Roaming\\nltk_data...\n[nltk_data]    |   Package framenet_v17 is already up-to-date!\n[nltk_data]    | Downloading package gazetteers to C:\\Users\\ku-\n[nltk_data]    |     team\\AppData\\Roaming\\nltk_data...\n[nltk_data]    |   Package gazetteers is already up-to-date!\n[nltk_data]    | Downloading package genesis to C:\\Users\\ku-\n[nltk_data]    |     team\\AppData\\Roaming\\nltk_data...\n[nltk_data]    |   Package genesis is already up-to-date!\n[nltk_data]    | Downloading package gutenberg to C:\\Users\\ku-\n[nltk_data]    |     team\\AppData\\Roaming\\nltk_data...\n[nltk_data]    |   Package gutenberg is already up-to-date!\n[nltk_data]    | Downloading package ieer to C:\\Users\\ku-\n[nltk_data]    |     team\\AppData\\Roaming\\nltk_data...\n[nltk_data]    |   Package ieer is already up-to-date!\n[nltk_data]    | Downloading package inaugural to C:\\Users\\ku-\n[nltk_data]    |     team\\AppData\\Roaming\\nltk_data...\n[nltk_data]    |   Package inaugural is already up-to-date!\n[nltk_data]    | Downloading package indian to C:\\Users\\ku-\n[nltk_data]    |     team\\AppData\\Roaming\\nltk_data...\n[nltk_data]    |   Package indian is already up-to-date!\n[nltk_data]    | Downloading package jeita to C:\\Users\\ku-\n[nltk_data]    |     team\\AppData\\Roaming\\nltk_data...\n[nltk_data]    |   Package jeita is already up-to-date!\n[nltk_data]    | Downloading package kimmo to C:\\Users\\ku-\n[nltk_data]    |     team\\AppData\\Roaming\\nltk_data...\n[nltk_data]    |   Package kimmo is already up-to-date!\n[nltk_data]    | Downloading package knbc to C:\\Users\\ku-\n[nltk_data]    |     team\\AppData\\Roaming\\nltk_data...\n[nltk_data]    |   Package knbc is already up-to-date!\n[nltk_data]    | Downloading package lin_thesaurus to C:\\Users\\ku-\n[nltk_data]    |     team\\AppData\\Roaming\\nltk_data...\n[nltk_data]    |   Package lin_thesaurus is already up-to-date!\n[nltk_data]    | Downloading package mac_morpho to C:\\Users\\ku-\n[nltk_data]    |     team\\AppData\\Roaming\\nltk_data...\n[nltk_data]    |   Package mac_morpho is already up-to-date!\n[nltk_data]    | Downloading package machado to C:\\Users\\ku-\n[nltk_data]    |     team\\AppData\\Roaming\\nltk_data...\n[nltk_data]    |   Package machado is already up-to-date!\n[nltk_data]    | Downloading package masc_tagged to C:\\Users\\ku-\n[nltk_data]    |     team\\AppData\\Roaming\\nltk_data...\n[nltk_data]    |   Package masc_tagged is already up-to-date!\n[nltk_data]    | Downloading package moses_sample to C:\\Users\\ku-\n[nltk_data]    |     team\\AppData\\Roaming\\nltk_data...\n[nltk_data]    |   Package moses_sample is already up-to-date!\n[nltk_data]    | Downloading package movie_reviews to C:\\Users\\ku-\n[nltk_data]    |     team\\AppData\\Roaming\\nltk_data...\n[nltk_data]    |   Package movie_reviews is already up-to-date!\n[nltk_data]    | Downloading package names to C:\\Users\\ku-\n[nltk_data]    |     team\\AppData\\Roaming\\nltk_data...\n[nltk_data]    |   Package names is already up-to-date!\n[nltk_data]    | Downloading package nombank.1.0 to C:\\Users\\ku-\n[nltk_data]    |     team\\AppData\\Roaming\\nltk_data...\n[nltk_data]    |   Package nombank.1.0 is already up-to-date!\n[nltk_data]    | Downloading package nps_chat to C:\\Users\\ku-\n[nltk_data]    |     team\\AppData\\Roaming\\nltk_data...\n[nltk_data]    |   Package nps_chat is already up-to-date!\n[nltk_data]    | Downloading package omw to C:\\Users\\ku-\n[nltk_data]    |     team\\AppData\\Roaming\\nltk_data...\n[nltk_data]    |   Package omw is already up-to-date!\n[nltk_data]    | Downloading package opinion_lexicon to C:\\Users\\ku-\n[nltk_data]    |     team\\AppData\\Roaming\\nltk_data...\n[nltk_data]    |   Package opinion_lexicon is already up-to-date!\n[nltk_data]    | Downloading package paradigms to C:\\Users\\ku-\n[nltk_data]    |     team\\AppData\\Roaming\\nltk_data...\n[nltk_data]    |   Package paradigms is already up-to-date!\n[nltk_data]    | Downloading package pil to C:\\Users\\ku-\n[nltk_data]    |     team\\AppData\\Roaming\\nltk_data...\n[nltk_data]    |   Package pil is already up-to-date!\n[nltk_data]    | Downloading package pl196x to C:\\Users\\ku-\n[nltk_data]    |     team\\AppData\\Roaming\\nltk_data...\n[nltk_data]    |   Package pl196x is already up-to-date!\n[nltk_data]    | Downloading package ppattach to C:\\Users\\ku-\n[nltk_data]    |     team\\AppData\\Roaming\\nltk_data...\n[nltk_data]    |   Package ppattach is already up-to-date!\n[nltk_data]    | Downloading package problem_reports to C:\\Users\\ku-\n[nltk_data]    |     team\\AppData\\Roaming\\nltk_data...\n[nltk_data]    |   Package problem_reports is already up-to-date!\n[nltk_data]    | Downloading package propbank to C:\\Users\\ku-\n[nltk_data]    |     team\\AppData\\Roaming\\nltk_data...\n[nltk_data]    |   Package propbank is already up-to-date!\n[nltk_data]    | Downloading package ptb to C:\\Users\\ku-\n[nltk_data]    |     team\\AppData\\Roaming\\nltk_data...\n[nltk_data]    |   Package ptb is already up-to-date!\n[nltk_data]    | Downloading package product_reviews_1 to C:\\Users\\ku-\n[nltk_data]    |     team\\AppData\\Roaming\\nltk_data...\n[nltk_data]    |   Package product_reviews_1 is already up-to-date!\n[nltk_data]    | Downloading package product_reviews_2 to C:\\Users\\ku-\n[nltk_data]    |     team\\AppData\\Roaming\\nltk_data...\n[nltk_data]    |   Package product_reviews_2 is already up-to-date!\n[nltk_data]    | Downloading package pros_cons to C:\\Users\\ku-\n[nltk_data]    |     team\\AppData\\Roaming\\nltk_data...\n[nltk_data]    |   Package pros_cons is already up-to-date!\n[nltk_data]    | Downloading package qc to C:\\Users\\ku-\n[nltk_data]    |     team\\AppData\\Roaming\\nltk_data...\n[nltk_data]    |   Package qc is already up-to-date!\n[nltk_data]    | Downloading package reuters to C:\\Users\\ku-\n[nltk_data]    |     team\\AppData\\Roaming\\nltk_data...\n[nltk_data]    |   Package reuters is already up-to-date!\n[nltk_data]    | Downloading package rte to C:\\Users\\ku-\n[nltk_data]    |     team\\AppData\\Roaming\\nltk_data...\n[nltk_data]    |   Package rte is already up-to-date!\n[nltk_data]    | Downloading package semcor to C:\\Users\\ku-\n[nltk_data]    |     team\\AppData\\Roaming\\nltk_data...\n[nltk_data]    |   Package semcor is already up-to-date!\n[nltk_data]    | Downloading package senseval to C:\\Users\\ku-\n[nltk_data]    |     team\\AppData\\Roaming\\nltk_data...\n[nltk_data]    |   Package senseval is already up-to-date!\n[nltk_data]    | Downloading package sentiwordnet to C:\\Users\\ku-\n[nltk_data]    |     team\\AppData\\Roaming\\nltk_data...\n[nltk_data]    |   Package sentiwordnet is already up-to-date!\n[nltk_data]    | Downloading package sentence_polarity to C:\\Users\\ku-\n[nltk_data]    |     team\\AppData\\Roaming\\nltk_data...\n[nltk_data]    |   Package sentence_polarity is already up-to-date!\n[nltk_data]    | Downloading package shakespeare to C:\\Users\\ku-\n[nltk_data]    |     team\\AppData\\Roaming\\nltk_data...\n[nltk_data]    |   Package shakespeare is already up-to-date!\n[nltk_data]    | Downloading package sinica_treebank to C:\\Users\\ku-\n[nltk_data]    |     team\\AppData\\Roaming\\nltk_data...\n[nltk_data]    |   Package sinica_treebank is already up-to-date!\n[nltk_data]    | Downloading package smultron to C:\\Users\\ku-\n[nltk_data]    |     team\\AppData\\Roaming\\nltk_data...\n[nltk_data]    |   Package smultron is already up-to-date!\n[nltk_data]    | Downloading package state_union to C:\\Users\\ku-\n[nltk_data]    |     team\\AppData\\Roaming\\nltk_data...\n[nltk_data]    |   Package state_union is already up-to-date!\n[nltk_data]    | Downloading package stopwords to C:\\Users\\ku-\n[nltk_data]    |     team\\AppData\\Roaming\\nltk_data...\n[nltk_data]    |   Package stopwords is already up-to-date!\n[nltk_data]    | Downloading package subjectivity to C:\\Users\\ku-\n[nltk_data]    |     team\\AppData\\Roaming\\nltk_data...\n[nltk_data]    |   Package subjectivity is already up-to-date!\n[nltk_data]    | Downloading package swadesh to C:\\Users\\ku-\n[nltk_data]    |     team\\AppData\\Roaming\\nltk_data...\n[nltk_data]    |   Package swadesh is already up-to-date!\n[nltk_data]    | Downloading package switchboard to C:\\Users\\ku-\n[nltk_data]    |     team\\AppData\\Roaming\\nltk_data...\n[nltk_data]    |   Package switchboard is already up-to-date!\n[nltk_data]    | Downloading package timit to C:\\Users\\ku-\n[nltk_data]    |     team\\AppData\\Roaming\\nltk_data...\n[nltk_data]    |   Package timit is already up-to-date!\n[nltk_data]    | Downloading package toolbox to C:\\Users\\ku-\n[nltk_data]    |     team\\AppData\\Roaming\\nltk_data...\n[nltk_data]    |   Package toolbox is already up-to-date!\n[nltk_data]    | Downloading package treebank to C:\\Users\\ku-\n[nltk_data]    |     team\\AppData\\Roaming\\nltk_data...\n[nltk_data]    |   Package treebank is already up-to-date!\n[nltk_data]    | Downloading package twitter_samples to C:\\Users\\ku-\n[nltk_data]    |     team\\AppData\\Roaming\\nltk_data...\n[nltk_data]    |   Package twitter_samples is already up-to-date!\n[nltk_data]    | Downloading package udhr to C:\\Users\\ku-\n[nltk_data]    |     team\\AppData\\Roaming\\nltk_data...\n[nltk_data]    |   Package udhr is already up-to-date!\n[nltk_data]    | Downloading package udhr2 to C:\\Users\\ku-\n[nltk_data]    |     team\\AppData\\Roaming\\nltk_data...\n[nltk_data]    |   Package udhr2 is already up-to-date!\n[nltk_data]    | Downloading package unicode_samples to C:\\Users\\ku-\n[nltk_data]    |     team\\AppData\\Roaming\\nltk_data...\n[nltk_data]    |   Package unicode_samples is already up-to-date!\n[nltk_data]    | Downloading package universal_treebanks_v20 to\n[nltk_data]    |     C:\\Users\\ku-team\\AppData\\Roaming\\nltk_data...\n[nltk_data]    |   Package universal_treebanks_v20 is already up-to-\n[nltk_data]    |       date!\n[nltk_data]    | Downloading package verbnet to C:\\Users\\ku-\n[nltk_data]    |     team\\AppData\\Roaming\\nltk_data...\n[nltk_data]    |   Package verbnet is already up-to-date!\n[nltk_data]    | Downloading package verbnet3 to C:\\Users\\ku-\n[nltk_data]    |     team\\AppData\\Roaming\\nltk_data...\n[nltk_data]    |   Package verbnet3 is already up-to-date!\n[nltk_data]    | Downloading package webtext to C:\\Users\\ku-\n[nltk_data]    |     team\\AppData\\Roaming\\nltk_data...\n[nltk_data]    |   Package webtext is already up-to-date!\n[nltk_data]    | Downloading package wordnet to C:\\Users\\ku-\n[nltk_data]    |     team\\AppData\\Roaming\\nltk_data...\n[nltk_data]    |   Package wordnet is already up-to-date!\n[nltk_data]    | Downloading package wordnet_ic to C:\\Users\\ku-\n[nltk_data]    |     team\\AppData\\Roaming\\nltk_data...\n[nltk_data]    |   Package wordnet_ic is already up-to-date!\n[nltk_data]    | Downloading package words to C:\\Users\\ku-\n[nltk_data]    |     team\\AppData\\Roaming\\nltk_data...\n[nltk_data]    |   Package words is already up-to-date!\n[nltk_data]    | Downloading package ycoe to C:\\Users\\ku-\n[nltk_data]    |     team\\AppData\\Roaming\\nltk_data...\n[nltk_data]    |   Package ycoe is already up-to-date!\n[nltk_data]    | Downloading package rslp to C:\\Users\\ku-\n[nltk_data]    |     team\\AppData\\Roaming\\nltk_data...\n[nltk_data]    |   Package rslp is already up-to-date!\n[nltk_data]    | Downloading package maxent_treebank_pos_tagger to\n[nltk_data]    |     C:\\Users\\ku-team\\AppData\\Roaming\\nltk_data...\n[nltk_data]    |   Package maxent_treebank_pos_tagger is already up-\n[nltk_data]    |       to-date!\n[nltk_data]    | Downloading package universal_tagset to C:\\Users\\ku-\n[nltk_data]    |     team\\AppData\\Roaming\\nltk_data...\n[nltk_data]    |   Package universal_tagset is already up-to-date!\n[nltk_data]    | Downloading package maxent_ne_chunker to C:\\Users\\ku-\n[nltk_data]    |     team\\AppData\\Roaming\\nltk_data...\n[nltk_data]    |   Package maxent_ne_chunker is already up-to-date!\n[nltk_data]    | Downloading package punkt to C:\\Users\\ku-\n[nltk_data]    |     team\\AppData\\Roaming\\nltk_data...\n[nltk_data]    |   Package punkt is already up-to-date!\n[nltk_data]    | Downloading package book_grammars to C:\\Users\\ku-\n[nltk_data]    |     team\\AppData\\Roaming\\nltk_data...\n[nltk_data]    |   Package book_grammars is already up-to-date!\n[nltk_data]    | Downloading package sample_grammars to C:\\Users\\ku-\n[nltk_data]    |     team\\AppData\\Roaming\\nltk_data...\n[nltk_data]    |   Package sample_grammars is already up-to-date!\n[nltk_data]    | Downloading package spanish_grammars to C:\\Users\\ku-\n[nltk_data]    |     team\\AppData\\Roaming\\nltk_data...\n[nltk_data]    |   Package spanish_grammars is already up-to-date!\n[nltk_data]    | Downloading package basque_grammars to C:\\Users\\ku-\n[nltk_data]    |     team\\AppData\\Roaming\\nltk_data...\n[nltk_data]    |   Package basque_grammars is already up-to-date!\n[nltk_data]    | Downloading package large_grammars to C:\\Users\\ku-\n[nltk_data]    |     team\\AppData\\Roaming\\nltk_data...\n[nltk_data]    |   Package large_grammars is already up-to-date!\n[nltk_data]    | Downloading package tagsets to C:\\Users\\ku-\n[nltk_data]    |     team\\AppData\\Roaming\\nltk_data...\n[nltk_data]    |   Package tagsets is already up-to-date!\n[nltk_data]    | Downloading package snowball_data to C:\\Users\\ku-\n[nltk_data]    |     team\\AppData\\Roaming\\nltk_data...\n[nltk_data]    |   Package snowball_data is already up-to-date!\n[nltk_data]    | Downloading package bllip_wsj_no_aux to C:\\Users\\ku-\n[nltk_data]    |     team\\AppData\\Roaming\\nltk_data...\n[nltk_data]    |   Package bllip_wsj_no_aux is already up-to-date!\n[nltk_data]    | Downloading package word2vec_sample to C:\\Users\\ku-\n[nltk_data]    |     team\\AppData\\Roaming\\nltk_data...\n[nltk_data]    |   Package word2vec_sample is already up-to-date!\n[nltk_data]    | Downloading package panlex_swadesh to C:\\Users\\ku-\n[nltk_data]    |     team\\AppData\\Roaming\\nltk_data...\n[nltk_data]    |   Package panlex_swadesh is already up-to-date!\n[nltk_data]    | Downloading package mte_teip5 to C:\\Users\\ku-\n[nltk_data]    |     team\\AppData\\Roaming\\nltk_data...\n[nltk_data]    |   Package mte_teip5 is already up-to-date!\n[nltk_data]    | Downloading package averaged_perceptron_tagger to\n[nltk_data]    |     C:\\Users\\ku-team\\AppData\\Roaming\\nltk_data...\n[nltk_data]    |   Package averaged_perceptron_tagger is already up-\n[nltk_data]    |       to-date!\n[nltk_data]    | Downloading package averaged_perceptron_tagger_ru to\n[nltk_data]    |     C:\\Users\\ku-team\\AppData\\Roaming\\nltk_data...\n[nltk_data]    |   Package averaged_perceptron_tagger_ru is already\n[nltk_data]    |       up-to-date!\n[nltk_data]    | Downloading package perluniprops to C:\\Users\\ku-\n[nltk_data]    |     team\\AppData\\Roaming\\nltk_data...\n[nltk_data]    |   Package perluniprops is already up-to-date!\n[nltk_data]    | Downloading package nonbreaking_prefixes to\n[nltk_data]    |     C:\\Users\\ku-team\\AppData\\Roaming\\nltk_data...\n[nltk_data]    |   Package nonbreaking_prefixes is already up-to-date!\n[nltk_data]    | Downloading package vader_lexicon to C:\\Users\\ku-\n[nltk_data]    |     team\\AppData\\Roaming\\nltk_data...\n[nltk_data]    |   Package vader_lexicon is already up-to-date!\n[nltk_data]    | Downloading package porter_test to C:\\Users\\ku-\n[nltk_data]    |     team\\AppData\\Roaming\\nltk_data...\n[nltk_data]    |   Package porter_test is already up-to-date!\n[nltk_data]    | Downloading package wmt15_eval to C:\\Users\\ku-\n[nltk_data]    |     team\\AppData\\Roaming\\nltk_data...\n[nltk_data]    |   Package wmt15_eval is already up-to-date!\n[nltk_data]    | Downloading package mwa_ppdb to C:\\Users\\ku-\n[nltk_data]    |     team\\AppData\\Roaming\\nltk_data...\n[nltk_data]    |   Package mwa_ppdb is already up-to-date!\n[nltk_data]    | \n[nltk_data]  Done downloading collection all\nRequirement already satisfied: numpy in c:\\users\\ku-team\\anaconda3\\lib\\site-packages (1.16.5)\nRequirement already satisfied: pyLDAvis in c:\\users\\ku-team\\anaconda3\\lib\\site-packages (2.1.2)\nRequirement already satisfied: numexpr in c:\\users\\ku-team\\anaconda3\\lib\\site-packages (from pyLDAvis) (2.7.0)\nRequirement already satisfied: funcy in c:\\users\\ku-team\\anaconda3\\lib\\site-packages (from pyLDAvis) (1.14)\nRequirement already satisfied: wheel>=0.23.0 in c:\\users\\ku-team\\anaconda3\\lib\\site-packages (from pyLDAvis) (0.33.6)\nRequirement already satisfied: pandas>=0.17.0 in c:\\users\\ku-team\\anaconda3\\lib\\site-packages (from pyLDAvis) (0.25.1)\nRequirement already satisfied: scipy>=0.18.0 in c:\\users\\ku-team\\anaconda3\\lib\\site-packages (from pyLDAvis) (1.4.1)\nRequirement already satisfied: joblib>=0.8.4 in c:\\users\\ku-team\\anaconda3\\lib\\site-packages (from pyLDAvis) (0.13.2)\nRequirement already satisfied: pytest in c:\\users\\ku-team\\appdata\\roaming\\python\\python37\\site-packages (from pyLDAvis) (5.3.2)\nRequirement already satisfied: jinja2>=2.7.2 in c:\\users\\ku-team\\anaconda3\\lib\\site-packages (from pyLDAvis) (2.10.3)\nRequirement already satisfied: numpy>=1.9.2 in c:\\users\\ku-team\\anaconda3\\lib\\site-packages (from pyLDAvis) (1.16.5)\nRequirement already satisfied: future in c:\\users\\ku-team\\anaconda3\\lib\\site-packages (from pyLDAvis) (0.17.1)\nRequirement already satisfied: pytz>=2017.2 in c:\\users\\ku-team\\anaconda3\\lib\\site-packages (from pandas>=0.17.0->pyLDAvis) (2019.3)\nRequirement already satisfied: python-dateutil>=2.6.1 in c:\\users\\ku-team\\anaconda3\\lib\\site-packages (from pandas>=0.17.0->pyLDAvis) (2.8.0)\nRequirement already satisfied: attrs>=17.4.0 in c:\\users\\ku-team\\appdata\\roaming\\python\\python37\\site-packages (from pytest->pyLDAvis) (19.3.0)\nRequirement already satisfied: atomicwrites>=1.0; sys_platform == \"win32\" in c:\\users\\ku-team\\appdata\\roaming\\python\\python37\\site-packages (from pytest->pyLDAvis) (1.3.0)\nRequirement already satisfied: py>=1.5.0 in c:\\users\\ku-team\\appdata\\roaming\\python\\python37\\site-packages (from pytest->pyLDAvis) (1.8.0)\nRequirement already satisfied: importlib-metadata>=0.12; python_version < \"3.8\" in c:\\users\\ku-team\\appdata\\roaming\\python\\python37\\site-packages (from pytest->pyLDAvis) (1.3.0)\nRequirement already satisfied: packaging in c:\\users\\ku-team\\appdata\\roaming\\python\\python37\\site-packages (from pytest->pyLDAvis) (19.2)\nRequirement already satisfied: more-itertools>=4.0.0 in c:\\users\\ku-team\\appdata\\roaming\\python\\python37\\site-packages (from pytest->pyLDAvis) (8.0.2)\nRequirement already satisfied: wcwidth in c:\\users\\ku-team\\appdata\\roaming\\python\\python37\\site-packages (from pytest->pyLDAvis) (0.1.7)\nRequirement already satisfied: pluggy<1.0,>=0.12 in c:\\users\\ku-team\\appdata\\roaming\\python\\python37\\site-packages (from pytest->pyLDAvis) (0.13.1)\nRequirement already satisfied: colorama; sys_platform == \"win32\" in c:\\users\\ku-team\\appdata\\roaming\\python\\python37\\site-packages (from pytest->pyLDAvis) (0.4.3)\nRequirement already satisfied: MarkupSafe>=0.23 in c:\\users\\ku-team\\anaconda3\\lib\\site-packages (from jinja2>=2.7.2->pyLDAvis) (1.1.1)\nRequirement already satisfied: six>=1.5 in c:\\users\\ku-team\\anaconda3\\lib\\site-packages (from python-dateutil>=2.6.1->pandas>=0.17.0->pyLDAvis) (1.12.0)\nRequirement already satisfied: zipp>=0.5 in c:\\users\\ku-team\\appdata\\roaming\\python\\python37\\site-packages (from importlib-metadata>=0.12; python_version < \"3.8\"->pytest->pyLDAvis) (0.6.0)\nRequirement already satisfied: pyparsing>=2.0.2 in c:\\users\\ku-team\\anaconda3\\lib\\site-packages (from packaging->pytest->pyLDAvis) (2.4.2)\n"
        }
      ]
    },
    {
      "cell_type": "code",
      "metadata": {
        "id": "IrDaKTdQobkx",
        "colab_type": "code",
        "colab": {
          "base_uri": "https://localhost:8080/",
          "height": 121
        },
        "outputId": "63d8bd0b-ec3e-4d7c-ddbc-1748c03116cb",
        "tags": []
      },
      "source": [
        "# load the save the english comments corpus into a pickle file as a list\n",
        "pickle_in = open(\"english_comments.pickle\",\"rb\")\n",
        "english_comments = pickle.load(pickle_in)    # loads the list of comments\n",
        "pprint(english_comments[:1])"
      ],
      "execution_count": 3,
      "outputs": [
        {
          "output_type": "stream",
          "name": "stdout",
          "text": "['Our stay with Marcus in Bristol was fantastic in every way! He was a great '\n 'host - picking us up at the bus stop, recommending places to try, leaving '\n 'plenty of pastries and other breakfast items to enjoy in the morning. The '\n 'flat itself was modern, bright, clean and spacious - and best of all, right '\n \"on Bristol's lovely harbourside. We will definitely stay again next time \"\n \"we're in Bristol - thanks again Marcus!\"]\n"
        }
      ]
    },
    {
      "cell_type": "code",
      "metadata": {
        "id": "-t8Drr64oveV",
        "colab_type": "code",
        "colab": {
          "base_uri": "https://localhost:8080/",
          "height": 198
        },
        "outputId": "d8c8d902-eb92-41cf-ef7d-7ec1f162f42c"
      },
      "source": [
        "# put the list into dataframe\n",
        "df = pd.DataFrame(english_comments,columns=['comments'])\n",
        "df.head(5)"
      ],
      "execution_count": 4,
      "outputs": [
        {
          "output_type": "execute_result",
          "data": {
            "text/plain": "                                            comments\n0  Our stay with Marcus in Bristol was fantastic ...\n1  Marcus is a brilliant, warm and friendly host....\n2  My mum Angela and I have stayed at Marcus' ama...\n3  Marcus was an exceptional host. I only stayed ...\n4  Marcus was welcoming, easy going and very help...",
            "text/html": "<div>\n<style scoped>\n    .dataframe tbody tr th:only-of-type {\n        vertical-align: middle;\n    }\n\n    .dataframe tbody tr th {\n        vertical-align: top;\n    }\n\n    .dataframe thead th {\n        text-align: right;\n    }\n</style>\n<table border=\"1\" class=\"dataframe\">\n  <thead>\n    <tr style=\"text-align: right;\">\n      <th></th>\n      <th>comments</th>\n    </tr>\n  </thead>\n  <tbody>\n    <tr>\n      <td>0</td>\n      <td>Our stay with Marcus in Bristol was fantastic ...</td>\n    </tr>\n    <tr>\n      <td>1</td>\n      <td>Marcus is a brilliant, warm and friendly host....</td>\n    </tr>\n    <tr>\n      <td>2</td>\n      <td>My mum Angela and I have stayed at Marcus' ama...</td>\n    </tr>\n    <tr>\n      <td>3</td>\n      <td>Marcus was an exceptional host. I only stayed ...</td>\n    </tr>\n    <tr>\n      <td>4</td>\n      <td>Marcus was welcoming, easy going and very help...</td>\n    </tr>\n  </tbody>\n</table>\n</div>"
          },
          "metadata": {},
          "execution_count": 4
        }
      ]
    },
    {
      "cell_type": "code",
      "metadata": {
        "id": "tbrydJKNo_aj",
        "colab_type": "code",
        "colab": {}
      },
      "source": [
        "# tokenize sentences and remove panctuations and emojis\n",
        "def sent_to_words(sentences):\n",
        "    for sentence in sentences:\n",
        "        yield(simple_preprocess(str(sentence), deacc=True))  # deacc=True removes punctuations\n"
      ],
      "execution_count": 7,
      "outputs": []
    },
    {
      "cell_type": "code",
      "metadata": {
        "id": "yU59hE6hpM8n",
        "colab_type": "code",
        "colab": {
          "base_uri": "https://localhost:8080/",
          "height": 54
        },
        "outputId": "941e48ff-b57e-481e-a7bc-6419c9ccb1aa",
        "tags": []
      },
      "source": [
        "tokenized_texts = list(sent_to_words(english_comments))\n",
        "print(tokenized_texts[:2])\n"
      ],
      "execution_count": 8,
      "outputs": [
        {
          "output_type": "stream",
          "name": "stdout",
          "text": "[['our', 'stay', 'with', 'marcus', 'in', 'bristol', 'was', 'fantastic', 'in', 'every', 'way', 'he', 'was', 'great', 'host', 'picking', 'us', 'up', 'at', 'the', 'bus', 'stop', 'recommending', 'places', 'to', 'try', 'leaving', 'plenty', 'of', 'pastries', 'and', 'other', 'breakfast', 'items', 'to', 'enjoy', 'in', 'the', 'morning', 'the', 'flat', 'itself', 'was', 'modern', 'bright', 'clean', 'and', 'spacious', 'and', 'best', 'of', 'all', 'right', 'on', 'bristol', 'lovely', 'harbourside', 'we', 'will', 'definitely', 'stay', 'again', 'next', 'time', 'we', 're', 'in', 'bristol', 'thanks', 'again', 'marcus'], ['marcus', 'is', 'brilliant', 'warm', 'and', 'friendly', 'host', 'he', 'picked', 'us', 'up', 'from', 'the', 'railway', 'station', 'he', 'took', 'anne', 'to', 'the', 'doctor', 'and', 'drove', 'us', 'around', 'wherever', 'we', 'needed', 'to', 'go', 'in', 'bristol', 'and', 'dropped', 'us', 'back', 'at', 'the', 'railway', 'station', 'when', 'we', 'were', 'leaving', 'his', 'flat', 'is', 'very', 'modern', 'comfortable', 'and', 'clean', 'and', 'is', 'very', 'well', 'heated', 'marcus', 'provided', 'us', 'with', 'everything', 'we', 'could', 'wish', 'for', 'we', 'wish', 'we', 'could', 'have', 'stayed', 'longer']]\n"
        }
      ]
    },
    {
      "cell_type": "code",
      "metadata": {
        "id": "1_KH5BAdq0Da",
        "colab_type": "code",
        "colab": {
          "base_uri": "https://localhost:8080/",
          "height": 1000
        },
        "outputId": "61a4575b-4517-49db-99fe-9a6f2aae9fbf",
        "tags": [
          "outputPrepend"
        ]
      },
      "source": [
        "# see the most common and most rare words\n",
        "from collections import  Counter    # dictionary collection\n",
        "def get_words_frequency(texts):\n",
        "    counter = Counter()\n",
        "    for  doc in texts:\n",
        "        for word in doc:\n",
        "            counter[word]+=1\n",
        "    return counter\n",
        "\n",
        "word_freq = get_words_frequency(tokenized_texts)\n",
        "pprint(sorted(word_freq))  # @ the end of the printed texts, still chinise words in there."
      ],
      "execution_count": 9,
      "outputs": [
        {
          "output_type": "stream",
          "name": "stdout",
          "text": "',\n 'univ',\n 'univerisity',\n 'univeristy',\n 'universal',\n 'universally',\n 'universe',\n 'universities',\n 'universitt',\n 'university',\n 'universiy',\n 'unkempt',\n 'unkept',\n 'unknown',\n 'unlabeled',\n 'unleashed',\n 'unless',\n 'unlike',\n 'unlikely',\n 'unlimited',\n 'unlit',\n 'unload',\n 'unloaded',\n 'unloading',\n 'unlock',\n 'unlockable',\n 'unlocked',\n 'unlocking',\n 'unloved',\n 'unlovely',\n 'unluckely',\n 'unlucky',\n 'unmade',\n 'unmanaged',\n 'unmarked',\n 'unmatched',\n 'unmetered',\n 'unmissable',\n 'unmopped',\n 'unnecessarily',\n 'unnecessary',\n 'unneeded',\n 'unnerved',\n 'unnerving',\n 'unnoticed',\n 'unnumbered',\n 'uno',\n 'unobstrusive',\n 'unobtrusive',\n 'unobtrusively',\n 'unoccupied',\n 'unopen',\n 'unopened',\n 'unorganised',\n 'unos',\n 'unpack',\n 'unpacking',\n 'unparalleled',\n 'unpersonally',\n 'unpictured',\n 'unplanned',\n 'unpleasant',\n 'unpleasantly',\n 'unplugged',\n 'unpractical',\n 'unprepared',\n 'unprepossessing',\n 'unproblematic',\n 'unproductive',\n 'unprofessional',\n 'unquestionably',\n 'unravel',\n 'unreachable',\n 'unreal',\n 'unrealistically',\n 'unreasonable',\n 'unreasonably',\n 'unreliable',\n 'unreservedly',\n 'unresolvable',\n 'unresolved',\n 'unresponsive',\n 'unrestricted',\n 'unrivalled',\n 'uns',\n 'unsafe',\n 'unsaid',\n 'unsanitary',\n 'unsatisfactory',\n 'unsatisfied',\n 'unsavory',\n 'unsavoury',\n 'unscheduled',\n 'unscrew',\n 'unseasonably',\n 'unseasonal',\n 'unsettling',\n 'unsightly',\n 'unsociable',\n 'unsocial',\n 'unsporty',\n 'unstable',\n 'unstayed',\n 'unsuccessfully',\n 'unsuitable',\n 'unsupervised',\n 'unsupportive',\n 'unsure',\n 'unsurpassed',\n 'unsurprising',\n 'unsurprisingly',\n 'unsuspecting',\n 'unswept',\n 'unsympathetic',\n 'untenable',\n 'untidy',\n 'until',\n 'untill',\n 'unto',\n 'untouched',\n 'untoward',\n 'unturned',\n 'unusable',\n 'unused',\n 'unusual',\n 'unusuall',\n 'unusually',\n 'unvaccumed',\n 'unversity',\n 'unwanted',\n 'unwashed',\n 'unwelcome',\n 'unwelcoming',\n 'unwell',\n 'unwide',\n 'unwilling',\n 'unwind',\n 'unwinding',\n 'unworn',\n 'uo',\n 'uob',\n 'up',\n 'upali',\n 'upand',\n 'upbeat',\n 'upcoming',\n 'upcycled',\n 'upcycling',\n 'update',\n 'updated',\n 'updates',\n 'updating',\n 'uper',\n 'upfest',\n 'upfront',\n 'upgood',\n 'upgrade',\n 'upgraded',\n 'upgrades',\n 'upgrading',\n 'upgrated',\n 'upheld',\n 'uphill',\n 'uphills',\n 'upholstered',\n 'upholstery',\n 'upkeep',\n 'upkept',\n 'uplift',\n 'uplifting',\n 'uplifts',\n 'upload',\n 'uploaded',\n 'uploading',\n 'upmarket',\n 'upmost',\n 'upon',\n 'upp',\n 'upper',\n 'uppppppp',\n 'upright',\n 'upriver',\n 'ups',\n 'upsatairs',\n 'upscale',\n 'upset',\n 'upsetting',\n 'upside',\n 'upstaged',\n 'upstairs',\n 'upto',\n 'upward',\n 'upwards',\n 'ur',\n 'urban',\n 'urge',\n 'urged',\n 'urgent',\n 'urging',\n 'urinal',\n 'urinated',\n 'urine',\n 'urself',\n 'us',\n 'usa',\n 'usability',\n 'usable',\n 'usaccommodation',\n 'usage',\n 'usb',\n 'use',\n 'useable',\n 'useage',\n 'useasiest',\n 'used',\n 'useful',\n 'usefulhe',\n 'usefull',\n 'useing',\n 'useless',\n 'user',\n 'username',\n 'users',\n 'uses',\n 'usg',\n 'using',\n 'usno',\n 'uss',\n 'usual',\n 'usually',\n 'uswe',\n 'utensil',\n 'utensils',\n 'utensilsshould',\n 'utilise',\n 'utilised',\n 'utilising',\n 'utilitarian',\n 'utilities',\n 'utility',\n 'utilizing',\n 'utmost',\n 'utter',\n 'uttered',\n 'utterly',\n 'uwe',\n 'vacacion',\n 'vacancies',\n 'vacancy',\n 'vacant',\n 'vacate',\n 'vacated',\n 'vacating',\n 'vacation',\n 'vacations',\n 'vaccum',\n 'vacuum',\n 'vacuumed',\n 'vacuuming',\n 'vagaries',\n 'vague',\n 'val',\n 'valarie',\n 'vale',\n 'valentin',\n 'valentina',\n 'valentine',\n 'valentines',\n 'valentini',\n 'valeri',\n 'valeria',\n 'valerie',\n 'vali',\n 'valid',\n 'validated',\n 'valley',\n 'vals',\n 'valuable',\n 'valuables',\n 'value',\n 'valued',\n 'valuegood',\n 'valuenice',\n 'values',\n 'valus',\n 'valve',\n 'van',\n 'vandalised',\n 'vanesa',\n 'vanessa',\n 'vanilla',\n 'vanity',\n 'vannessa',\n 'vans',\n 'vantage',\n 'var',\n 'variation',\n 'variations',\n 'variaty',\n 'varied',\n 'varies',\n 'varieties',\n 'variety',\n 'varios',\n 'various',\n 'variously',\n 'varnish',\n 'vary',\n 'varying',\n 'vas',\n 'vase',\n 'vases',\n 'vashti',\n 'vast',\n 'vastly',\n 'vat',\n 'vault',\n 'vaulted',\n 'vaults',\n 'vauxhall',\n 'vaya',\n 've',\n 'vea',\n 'vecinity',\n 'vee',\n 'veeery',\n 'veery',\n 'veey',\n 'veg',\n 'vegan',\n 'vegans',\n 'vege',\n 'vegemite',\n 'veges',\n 'vegetable',\n 'vegetables',\n 'vegetarian',\n 'vegetarians',\n 'vegfest',\n 'veggie',\n 'veggies',\n 'veggiie',\n 'vegi',\n 'vegie',\n 'vehicle',\n 'vehicles',\n 'vein',\n 'veing',\n 'veiw',\n 'veiws',\n 'velue',\n 'velux',\n 'vendor',\n 'vendors',\n 'vendy',\n 'vendys',\n 'venerable',\n 'venessa',\n 'venetian',\n 'vengeance',\n 'venison',\n 'vent',\n 'ventilated',\n 'ventilation',\n 'ventilator',\n 'ventre',\n 'vents',\n 'venture',\n 'ventured',\n 'venturing',\n 'venue',\n 'venues',\n 'ver',\n 'vera',\n 'veracity',\n 'veranda',\n 'verandah',\n 'verandas',\n 'verbal',\n 'verbally',\n 'verdant',\n 'verdict',\n 'verified',\n 'verify',\n 'veritable',\n 'verities',\n 'verity',\n 'veronica',\n 'veronicas',\n 'veronika',\n 'verrier',\n 'verrrry',\n 'verry',\n 'versa',\n 'versatile',\n 'verse',\n 'versha',\n 'version',\n 'versions',\n 'versus',\n 'vert',\n 'vertical',\n 'vertiginious',\n 'vertiginous',\n 'vertigo',\n 'very',\n 'verybad',\n 'verybnice',\n 'verycentral',\n 'verycomfortable',\n 'veryhelpfull',\n 'verymuch',\n 'vessel',\n 'vessels',\n 'vet',\n 'veterans',\n 'vets',\n 'vetted',\n 'vety',\n 'vews',\n 'vey',\n 'veyr',\n 'vfm',\n 'vga',\n 'vhs',\n 'via',\n 'viable',\n 'viaja',\n 'viaje',\n 'vibe',\n 'vibes',\n 'vibey',\n 'vibrancy',\n 'vibrant',\n 'vibrants',\n 'vibrating',\n 'vibration',\n 'vibrations',\n 'vibratoons',\n 'vibriant',\n 'vic',\n 'vice',\n 'vicinities',\n 'vicinity',\n 'vicious',\n 'vicissitudes',\n 'vicki',\n 'vicky',\n 'victoria',\n 'victorian',\n 'victoriana',\n 'victories',\n 'victory',\n 'video',\n 'videos',\n 'vienna',\n 'viepoint',\n 'vies',\n 'viet',\n 'vietnamese',\n 'vieuw',\n 'view',\n 'viewed',\n 'viewing',\n 'viewings',\n 'viewluke',\n 'views',\n 'viewsbit',\n 'viewskitchen',\n 'viewsthanks',\n 'viewtea',\n 'vigorous',\n 'viki',\n 'vikram',\n 'viktor',\n 'vile',\n 'villa',\n 'village',\n 'villageb',\n 'villages',\n 'villagey',\n 'villas',\n 'ville',\n 'villiage',\n 'vin',\n 'vinay',\n 'vince',\n 'vincent',\n 'vinegar',\n 'vino',\n 'vintage',\n 'vinyl',\n 'vinyls',\n 'violated',\n 'violent',\n 'violin',\n 'virag',\n 'virgin',\n 'virginia',\n 'virginity',\n 'virgins',\n 'virkelig',\n 'virtual',\n 'virtually',\n 'virtues',\n 'virus',\n 'viscous',\n 'visdoms',\n 'visibility',\n 'visible',\n 'visibly',\n 'vision',\n 'visit',\n 'visite',\n 'visited',\n 'visitimg',\n 'visiting',\n 'visitingat',\n 'visitins',\n 'visitng',\n 'visitor',\n 'visitors',\n 'visits',\n 'visitting',\n 'visittony',\n 'vist',\n 'vista',\n 'visting',\n 'vistiting',\n 'vistorian',\n 'vistors',\n 'visual',\n 'visually',\n 'vita',\n 'vitage',\n 'vital',\n 'vitality',\n 'vitamin',\n 'vitiage',\n 'vitoria',\n 'vittoria',\n 'vittorio',\n 'viva',\n 'vivacious',\n 'vivid',\n 'vivien',\n 'vll',\n 'vocabulary',\n 'vodafone',\n 'voice',\n 'voiced',\n 'voicemail',\n 'voicemails',\n 'voices',\n 'voila',\n 'volatile',\n 'volley',\n 'volly',\n 'volume',\n 'volumes',\n 'volunteer',\n 'volunteered',\n 'volunteers',\n 'volveria',\n 'vomit',\n 'vomited',\n 'vote',\n 'voted',\n 'vouch',\n 'voucher',\n 'vouchers',\n 'vous',\n 'vperfect',\n 'vpinn',\n 'vraiment',\n 'vry',\n 'vs',\n 'vuelvo',\n 'vulnerable',\n 'vultures',\n 'vx',\n 'wa',\n 'waa',\n 'waaaay',\n 'wach',\n 'wad',\n 'waffles',\n 'waft',\n 'wafting',\n 'wag',\n 'wagamama',\n 'wagging',\n 'waggy',\n 'wagon',\n 'waistcoat',\n 'wait',\n 'waite',\n 'waited',\n 'waiter',\n 'waiting',\n 'waitrose',\n 'waive',\n 'waived',\n 'waiving',\n 'wake',\n 'waken',\n 'wakes',\n 'wakeup',\n 'waking',\n 'wal',\n 'walakable',\n 'wales',\n 'walfish',\n 'walk',\n 'walkable',\n 'walkably',\n 'walkabout',\n 'walked',\n 'walker',\n 'walkers',\n 'walki',\n 'walkies',\n 'walkig',\n 'walkimg',\n 'walkin',\n 'walking',\n 'walks',\n 'walkside',\n 'walkthrough',\n 'walkup',\n 'walkway',\n 'walkways',\n 'wall',\n 'walled',\n 'wallet',\n 'wallfish',\n 'wallhangings',\n 'wallis',\n 'wallow',\n 'wallpaper',\n 'wallpapers',\n 'walls',\n 'wallsconclusion',\n 'wallsi',\n 'wally',\n 'walm',\n 'walmly',\n 'walnut',\n 'walt',\n 'walter',\n 'wam',\n 'wan',\n 'wand',\n 'wander',\n 'wandered',\n 'wanderers',\n 'wandering',\n 'wanderlust',\n 'wang',\n 'wanna',\n 'want',\n 'wanted',\n 'wantet',\n 'wanting',\n 'wants',\n 'wapping',\n 'war',\n 'warbrobe',\n 'ward',\n 'warden',\n 'wardens',\n 'wardrobe',\n 'wardrobes',\n 'wards',\n 'ware',\n 'warehouse',\n 'warehouses',\n 'wares',\n 'warf',\n 'warm',\n 'warmable',\n 'warme',\n 'warmed',\n 'warmely',\n 'warmer',\n 'warmers',\n 'warmest',\n 'warmfully',\n 'warmheart',\n 'warmhearted',\n 'warming',\n 'warmingly',\n 'warmish',\n 'warmlovely',\n 'warmly',\n 'warmness',\n 'warms',\n 'warmth',\n 'warmup',\n 'warmwe',\n 'warmwelcome',\n 'warmy',\n 'warn',\n 'warned',\n 'warning',\n 'warnings',\n 'warns',\n 'warp',\n 'warranted',\n 'warrants',\n 'warren',\n 'warrens',\n 'warrior',\n 'wars',\n 'warth',\n 'wary',\n 'was',\n 'wash',\n 'washbasin',\n 'washcloths',\n 'washed',\n 'washer',\n 'washers',\n 'washes',\n 'washing',\n 'washingmachine',\n 'washroom',\n 'waslking',\n 'waslovely',\n 'wasmade',\n 'wasn',\n 'wasnot',\n 'wasnt',\n 'wasperfect',\n 'wasps',\n 'waspsnot',\n 'waste',\n 'wasted',\n 'wasteful',\n 'wastepaper',\n 'wasting',\n 'wasvery',\n 'wat',\n 'watch',\n 'watched',\n 'watches',\n 'watching',\n 'watchout',\n 'water',\n 'watercress',\n 'waterfall',\n 'waterfront',\n 'watering',\n 'waterline',\n 'waterloo',\n 'waterpressure',\n 'waters',\n 'watershed',\n 'waterside',\n 'watertight',\n 'waterway',\n 'waterways',\n 'watery',\n 'watson',\n 'watts',\n 'wave',\n 'waved',\n 'waves',\n 'waving',\n 'waxed',\n 'waxing',\n 'way',\n 'wayne',\n 'ways',\n 'waz',\n 'wc',\n 'wcgreat',\n 'wcp',\n 'wd',\n 'we',\n 'weak',\n 'weaker',\n 'wealth',\n 'wealthy',\n 'weaning',\n 'wear',\n 'wearing',\n 'weary',\n 'weather',\n 'weathered',\n 'weathers',\n 'weaving',\n 'web',\n 'weber',\n 'webpage',\n 'website',\n 'websitenick',\n 'websites',\n 'weburg',\n 'weburgh',\n 'wecanmake',\n 'wecolming',\n 'wecome',\n 'wecoming',\n 'wed',\n 'wedding',\n 'weddingdespite',\n 'weddings',\n 'wedged',\n 'wednesday',\n 'weds',\n 'wee',\n 'weed',\n 'weeds',\n 'week',\n 'weekday',\n 'weekdays',\n 'weeked',\n 'weekedn',\n 'weekend',\n 'weekendeasy',\n 'weekender',\n 'weekendno',\n 'weekends',\n 'weekendthe',\n 'weekens',\n 'weekly',\n 'weeknd',\n 'weekned',\n 'weeknight',\n 'weeks',\n 'weekwnd',\n 'weel',\n 'weell',\n 'weeny',\n 'weetabix',\n 'weewendy',\n 'wehad',\n 'weight',\n 'weill',\n 'weimin',\n 'weird',\n 'weirdest',\n 'weirdly',\n 'weisia',\n 'wel',\n 'welcolming',\n 'welcom',\n 'welcome',\n 'welcomed',\n 'welcomehighly',\n 'welcomes',\n 'welcominf',\n 'welcoming',\n 'welcominggreat',\n 'welcomingly',\n 'welcomingon',\n 'welcomingthe',\n 'welcomingwill',\n 'welcomming',\n 'welfare',\n 'well',\n 'wellappointed',\n 'wellas',\n 'wellbeing',\n 'wellbourne',\n 'wellcame',\n 'wellcare',\n 'wellcome',\n 'wellcomed',\n 'wellcoming',\n 'welle',\n 'wellington',\n 'wellkept',\n 'welllocated',\n 'welllocation',\n 'wellness',\n 'wells',\n 'wellsrd',\n 'welness',\n 'welocme',\n 'welsh',\n 'wembley',\n 'wend',\n 'wendy',\n 'wendys',\n 'went',\n 'weolcome',\n 'werbergh',\n 'werberghs',\n 'werbergs',\n 'werboughs',\n 'werbugh',\n 'werbughs',\n 'werburgh',\n 'werburghs',\n 'werburgs',\n 'were',\n 'wereally',\n 'wereawesome',\n 'wereburghs',\n 'weren',\n 'werent',\n 'wern',\n 'wernt',\n 'werrbergs',\n 'wery',\n 'wes',\n 'west',\n 'westbury',\n 'westend',\n 'western',\n 'westfield',\n 'westie',\n 'weston',\n 'wet',\n 'wete',\n 'wether',\n 'wetherspoon',\n 'wetherspoons',\n 'wetroom',\n 'wetrooms',\n 'wetting',\n 'wewere',\n 'wha',\n 'whacky',\n 'whale',\n 'whapping',\n 'wharf',\n 'wharfs',\n 'what',\n 'whatever',\n 'whatnot',\n 'whats',\n 'whatsap',\n 'whatso',\n 'whatsoever',\n 'whatvwe',\n 'whe',\n 'wheat',\n 'wheather',\n 'wheel',\n 'wheelchair',\n 'wheelchairs',\n 'wheeling',\n 'wheels',\n 'whelming',\n 'when',\n 'whenever',\n 'wheni',\n 'whent',\n 'where',\n 'whereabouts',\n 'whereas',\n 'whereby',\n 'wherever',\n 'whet',\n 'whether',\n 'whevener',\n 'whey',\n 'which',\n 'whichever',\n 'whichi',\n 'whick',\n 'whiffy',\n 'whihc',\n 'whike',\n 'while',\n 'whileenyoing',\n 'whileletting',\n 'whilemy',\n 'whilst',\n 'whim',\n 'whimsical',\n 'whiniest',\n 'whining',\n 'whip',\n 'whipped',\n 'whippet',\n 'whipping',\n 'whips',\n 'whirlwind',\n 'whish',\n 'whishes',\n 'whisked',\n 'whiskey',\n 'whisks',\n 'whisper',\n 'whist',\n 'whistle',\n 'whistled',\n 'whistles',\n 'whistlestop',\n 'whistling',\n 'whit',\n 'whitchurch',\n 'white',\n 'whiteboard',\n 'whitehall',\n 'whiteladies',\n 'whitelady',\n 'whitelands',\n 'whites',\n 'whith',\n 'whitladies',\n 'whitleadies',\n 'whitout',\n 'whitty',\n 'whizzes',\n 'who',\n 'whoever',\n 'whole',\n 'wholefood',\n 'wholefoods',\n 'wholehearted',\n 'wholeheartedly',\n 'wholemeal',\n 'wholesome',\n 'wholly',\n 'whom',\n 'whoop',\n 'whopping',\n 'whort',\n 'whose',\n 'whould',\n 'whsmith',\n 'whuteladies',\n 'why',\n 'wi',\n 'wich',\n 'wick',\n 'wicked',\n 'wicker',\n 'wide',\n 'widely',\n 'wider',\n 'widescreen',\n 'widows',\n 'width',\n 'wieder',\n 'wierd',\n 'wiesia',\n 'wif',\n 'wife',\n 'wifi',\n 'wig',\n 'wiggle',\n 'wight',\n 'wih',\n 'wil',\n 'wild',\n 'wildebeest',\n 'wilderness',\n 'wildest',\n 'wildlife',\n 'wilds',\n 'wildy',\n 'wilk',\n 'wilko',\n 'wilks',\n 'will',\n 'william',\n 'willie',\n 'willing',\n 'willingly',\n 'willingness',\n 'willling',\n 'willow',\n 'willpower',\n 'wills',\n 'wilson',\n 'wilsons',\n 'wimbledon',\n 'win',\n 'wind',\n 'windhill',\n 'winding',\n 'windmill',\n 'window',\n 'windowcool',\n 'windows',\n 'windowsill',\n 'windowslovely',\n 'windrow',\n 'windscreen',\n 'windsor',\n 'windy',\n 'wine',\n 'wines',\n 'wing',\n 'wingback',\n 'wings',\n 'wining',\n 'wink',\n 'winner',\n 'winning',\n 'wins',\n 'winslet',\n 'winston',\n 'winter',\n 'winters',\n 'wintery',\n 'wintry',\n 'wip',\n 'wipe',\n 'wiped',\n 'wiper',\n 'wipes',\n 'wiping',\n 'wir',\n 'wire',\n 'wired',\n 'wireless',\n 'wires',\n 'wirh',\n 'wiring',\n 'wis',\n 'wisdom',\n 'wise',\n 'wiser',\n 'wish',\n 'wished',\n 'wishes',\n 'wishescharles',\n 'wishesjacqui',\n 'wishful',\n 'wishing',\n 'wishlist',\n 'wit',\n 'witch',\n 'with',\n 'witha',\n 'withdraw',\n 'withdrawn',\n 'withe',\n 'withheld',\n 'within',\n 'withing',\n 'withloved',\n 'withlovely',\n 'without',\n 'withouth',\n 'withtom',\n 'withywood',\n 'witin',\n 'witing',\n 'witnessed',\n 'wittily',\n 'witty',\n 'wity',\n 'witz',\n 'wkend',\n 'wlan',\n 'wld',\n 'wle',\n 'wobble',\n 'wobbling',\n 'wobbly',\n 'woderful',\n 'woderfully',\n 'wohod',\n 'woiuld',\n 'wojldr',\n 'wojtek',\n 'wok',\n 'woke',\n 'woken',\n 'woking',\n 'wokring',\n 'wold',\n 'wolfhound',\n 'wolfs',\n 'woll',\n 'wolverhampton',\n 'woman',\n 'women',\n 'won',\n 'wondeful',\n 'wonder',\n 'wonderdog',\n 'wondered',\n 'wonderfu',\n 'wonderful',\n 'wonderfull',\n 'wonderfuller',\n 'wonderfully',\n 'wonderfulplace',\n 'wonderfulstay',\n 'wonderfult',\n 'wondering',\n 'wonderland',\n 'wonders',\n 'wondorful',\n 'wonky',\n 'wont',\n 'woo',\n 'wood',\n 'woodburner',\n 'woodburning',\n 'woodchip',\n 'wooded',\n 'wooden',\n 'woodland',\n 'woodlands',\n 'woodlice',\n 'woodpecker',\n 'woods',\n 'woodwork',\n 'woof',\n 'woofs',\n 'woogie',\n 'woollen',\n 'wooly',\n 'woovered',\n 'word',\n 'worded',\n 'words',\n 'wordy',\n 'worht',\n 'work',\n 'workable',\n 'worked',\n 'worker',\n 'workers',\n 'working',\n 'workings',\n 'workmen',\n 'worknight',\n 'workout',\n 'workouts',\n 'workplace',\n 'workplaces',\n 'works',\n 'worksbut',\n 'workshop',\n 'workshops',\n 'workspace',\n 'workspaces',\n 'worksurface',\n 'worktop',\n 'worktops',\n 'worktrip',\n 'world',\n 'worldcup',\n 'worldly',\n 'worlds',\n 'worm',\n 'worn',\n 'worried',\n 'worries',\n 'worry',\n 'worrying',\n 'worryingly',\n 'worse',\n 'worst',\n 'worth',\n 'worthed',\n 'worthing',\n 'worths',\n 'worthwhile',\n 'worthy',\n 'wos',\n 'wot',\n 'woth',\n 'wou',\n 'woukd',\n 'woukdnt',\n 'woukld',\n 'would',\n 'wouldbook',\n 'wouldhighly',\n 'wouldmn',\n 'wouldn',\n 'wouldnt',\n 'wouldstay',\n 'wound',\n 'wounderful',\n 'woundful',\n 'wount',\n 'wow',\n 'wowed',\n 'wowee',\n 'wowsome',\n 'wowthe',\n 'wpuld',\n 'wqs',\n 'wr',\n 'wracking',\n 'wrangling',\n 'wrap',\n 'wrapped',\n 'wrappers',\n 'wrapping',\n 'wraps',\n 'wrasslin',\n 'wre',\n 'wrench',\n 'wrist',\n 'write',\n 'writer',\n 'writes',\n 'writhing',\n 'writing',\n 'written',\n 'wroking',\n 'wrong',\n 'wrongly',\n 'wrote',\n 'wrought',\n 'wry',\n 'ws',\n 'wsa',\n 'wss',\n 'wth',\n 'wud',\n 'wuiet',\n 'wunderful',\n 'wwii',\n 'www',\n 'wy',\n 'wye',\n 'wysiwyg',\n 'xbox',\n 'xd',\n 'xiaolong',\n 'xix',\n 'xj',\n 'xlean',\n 'xmas',\n 'xo',\n 'xoxo',\n 'xoxoxo',\n 'xperia',\n 'xperiemce',\n 'xps',\n 'xx',\n 'xxjo',\n 'xxp',\n 'xxx',\n 'xxxx',\n 'xxxxx',\n 'ya',\n 'yael',\n 'yale',\n 'yammi',\n 'yammy',\n 'yankee',\n 'yard',\n 'yards',\n 'yasmin',\n 'yay',\n 'yds',\n 'yea',\n 'yeah',\n 'year',\n 'yeards',\n 'yearly',\n 'yearn',\n 'years',\n 'yeay',\n 'yelena',\n 'yelled',\n 'yelling',\n 'yellow',\n 'yellowtail',\n 'yenchy',\n 'yepp',\n 'yer',\n 'yes',\n 'yeslike',\n 'yesterday',\n 'yesteryear',\n 'yet',\n 'yew',\n 'yhe',\n 'yhey',\n 'yhr',\n 'yippee',\n 'yiu',\n 'ymto',\n 'yo',\n 'yobike',\n 'yobikes',\n 'yoga',\n 'yogawest',\n 'yogcon',\n 'yoghourt',\n 'yoghurt',\n 'yoghurts',\n 'yogourth',\n 'yogurt',\n 'yogurts',\n 'yolk',\n 'yomp',\n 'yone',\n 'yoni',\n 'yoo',\n 'yop',\n 'york',\n 'yorkshire',\n 'yosh',\n 'yoshi',\n 'you',\n 'youbreakfast',\n 'youd',\n 'youget',\n 'youi',\n 'youll',\n 'youneed',\n 'young',\n 'younger',\n 'youngest',\n 'youngjin',\n 'youngster',\n 'youngsters',\n 'your',\n 'yourapartment',\n 'youre',\n 'yours',\n 'yourself',\n 'yourselves',\n 'yous',\n 'youth',\n 'youtheo',\n 'youthful',\n 'youths',\n 'youtube',\n 'youu',\n 'youuuu',\n 'youv',\n 'youvare',\n 'youve',\n 'yovkastrongly',\n 'yown',\n 'ypu',\n 'ypur',\n 'yr',\n 'yrds',\n 'yro',\n 'yrs',\n 'yrself',\n 'ys',\n 'ysb',\n 'yu',\n 'yuanfeng',\n 'yum',\n 'yume',\n 'yumi',\n 'yummie',\n 'yummies',\n 'yummy',\n 'yumyum',\n 'yup',\n 'yuppy',\n 'yurt',\n 'yuu',\n 'yve',\n 'yvette',\n 'yvonne',\n 'za',\n 'zafira',\n 'zag',\n 'zahid',\n 'zak',\n 'zaks',\n 'zanna',\n 'zany',\n 'zap',\n 'zapiekanka',\n 'zaza',\n 'zazu',\n 'zealand',\n 'zealous',\n 'zeb',\n 'zebbi',\n 'zebedee',\n 'zebra',\n 'zed',\n 'zee',\n 'zelda',\n 'zen',\n 'zeng',\n 'zero',\n 'zerodegrees',\n 'zest',\n 'zi',\n 'zig',\n 'ziggy',\n 'zimmer',\n 'zing',\n 'zip',\n 'zippi',\n 'zippy',\n 'zitto',\n 'zizi',\n 'zizzi',\n 'zoe',\n 'zoes',\n 'zoltan',\n 'zone',\n 'zoned',\n 'zones',\n 'zoo',\n 'zooey',\n 'zoological',\n 'zowie',\n 'zowies',\n 'zsa',\n 'zsazsa',\n 'zula',\n 'zurich',\n 'zuvorkommend',\n 'zuzanna',\n 'αdam',\n 'ありかとう',\n 'いいおうちてした',\n 'このﾛｹｰｼｮﾝはﾊﾞｯﾁﾘ',\n 'すこくｶﾗﾌﾙかつ清潔て',\n 'たたし',\n 'もうここに住みたいというくらい',\n '一次完美的停留',\n '下に日本語て情報を付け加えます',\n '下次来布里斯托',\n '不過這可能是個案',\n '中国的小伙伴想来布里斯托玩',\n '也會關心房客動向和住宿的舒適度',\n '也有公交可达',\n '事事照顾的周到',\n '交通位置还行',\n '他们也为我们提供了旅行建议',\n '休息',\n '但是离bristol',\n '位置',\n '位置安静',\n '位置很好',\n '值得推荐',\n '写真の通り',\n '冰箱里的牛奶',\n '分钟',\n '卧室也很大',\n '卫生间就简直是超级干净整洁啊',\n '厨房的调料和餐具',\n '可以自助check',\n '各处的鲜花',\n '和善',\n '唯一不好的地方就是位置在山上',\n '唯一美中不足就是地理位置略偏',\n '回音也大到頭有點暈',\n '在布里斯托一个很酷的区域',\n '地址很好找',\n '墙上桌上摆了不少画',\n '多次询问我们需要什么帮助',\n '大力推荐哦',\n '女房东人超级好啊喵',\n '家里书也特别多',\n '对了',\n '对于赔偿的金额发生了一些争执',\n '对发生的意外我表示道歉',\n '尽可能满足你的要求推荐入住',\n '屋主一家人很好',\n '希望还能住在这里',\n '床又大又舒服',\n '床很舒服',\n '床非常舒服',\n '强烈推荐',\n '强烈推荐给大家',\n '待人友善的好朋友',\n '很local的街區',\n '很大的空间',\n '很小巧可愛的民宿',\n '很干净',\n '很抱歉忘记了自己预订时间',\n '很满意',\n '很開心可以認識到他們',\n '感觉她还很喜欢艺术呢',\n '我们入住热情的房东还接了我们',\n '我们多住了一天',\n '我是中国的',\n '房东也很热心',\n '房东人也很好',\n '房东人很好',\n '房东人超级好',\n '房东人超级赞',\n '房东夫妇人很好',\n '房东很nice',\n '房东很热心健谈',\n '房东很热心指位置',\n '房东是位很有爱的女士',\n '房主会热情好客',\n '房子很干净',\n '房子很棒',\n '房東很親切',\n '房東表示他沒辦法去阻止小孩子玩',\n '房東親切',\n '房間也有附熱水壺可以沖泡咖啡',\n '房間很棒',\n '房间干净整洁',\n '房间很干净',\n '房间整整齐齐井井有条',\n '房间的设施很棒',\n '房间相当舒适漂亮',\n '房间装修很好',\n '房间装修很有异域风情',\n '房间设备齐全',\n '房间非常干净',\n '房间靠近后花园',\n '所以只跟我們說非常抱歉',\n '所以可以很自在的享受留宿時光',\n '所以很安静',\n '所有的設備都很整齊乾淨',\n '挺安静的',\n '提供很乾淨舒適的環境',\n '整个一层都是我们的',\n '整栋房子的装潢也很可爱',\n '早餐丰盛且好吃',\n '晚上为我们准备了牛奶',\n '普通的单人间',\n '有只猫很亲人',\n '有早餐和茶水',\n '有机会希望再来',\n '本人很親切',\n '樂於分享',\n '橙汁和葡萄酒',\n '没有之一',\n '淋浴设施很棒',\n '淋雨间也超棒',\n '物品很齐全',\n '特别完美的一次经历',\n '特别干净',\n '特别棒',\n '特别温馨',\n '狗狗很安静',\n '猫猫很可爱',\n '环境',\n '當時是遇到小孩子在跑跳',\n '看得出来是很热爱生活的夫妇',\n '真的很讚',\n '离stapleton',\n '离大学很近',\n '离市中心也很近',\n '离火车站和景点都很近',\n '給各位參考',\n '给推荐布村的旅行攻略',\n '老爷爷老奶奶很可爱很好',\n '考试考傻了',\n '虽然中间发生了一些意外',\n '装修也很有格调',\n '要从后门进',\n '要爬超大的坡',\n '設備完善',\n '设施等等都非常好',\n '设置齐全',\n '译文this',\n '超出了我对民宿的预期',\n '超级温馨的房子',\n '距离火车站走路',\n '还不错啦',\n '还亲自送我去汽车站',\n '还亲自送来了壁炉用的木柴',\n '这个价钱值得',\n '这个房间比图片上看着还好很多',\n '这家家庭式住宿真的不错',\n '适合奔波了一天的你',\n '這房間是在地下一樓',\n '過こしやすい素敵なおうちてす',\n '適合小孩',\n '還有可愛的狗與貓的陪伴',\n '重要的是各种细节都非常完美',\n '钥匙一共有两把',\n '附近有两家超市房东非常友好',\n '震到連天花板的燈都會抖',\n '非常地道的體驗',\n '非常完美',\n '非常感您',\n '非常棒',\n '非常棒的体验',\n '非常漂亮且大且设施齐全',\n '非常漂亮和干净的房子',\n '非常舒服',\n '非常适合来布里斯托旅游的人入住',\n '餐桌上的水果和面包',\n '가까워서',\n '가시는',\n '걸어서',\n '내려다보는',\n '너무',\n '다녀오기에',\n '대해주셔서',\n '밤낮으로',\n '분에게',\n '뷰가',\n '브리스톨',\n '언덕',\n '여행',\n '예뻐요',\n '위치해서',\n '좋았고',\n '좋았어요',\n '쥬요쟝소및깇아여겟어머러써욤',\n '쪽에',\n '추천해요',\n '친절하시고',\n '클리프턴',\n '편안하게',\n '현수교랑',\n '호스트님도',\n 'ｽｰﾊﾟｰなとからも近く']\n"
        }
      ]
    },
    {
      "cell_type": "code",
      "metadata": {
        "id": "NDOHHLOZAZ9v",
        "colab_type": "code",
        "colab": {
          "base_uri": "https://localhost:8080/",
          "height": 1000
        },
        "outputId": "6820e266-3157-4a58-aa1b-249809b6f85e",
        "tags": []
      },
      "source": [
        "# to filter chinese words or get only english words\n",
        "def get_english_words(documents):\n",
        "    ''' filters out any non-english words'''\n",
        "    english_words = [[ w for w in doc if re.match(r'[A-Z, a-z]', w)] for doc in documents]\n",
        "    return english_words\n",
        "\n",
        "\n",
        "fitered_english_words = get_english_words(tokenized_texts)\n",
        "pprint(fitered_english_words[:2])"
      ],
      "execution_count": 10,
      "outputs": [
        {
          "output_type": "stream",
          "name": "stdout",
          "text": "[['our',\n  'stay',\n  'with',\n  'marcus',\n  'in',\n  'bristol',\n  'was',\n  'fantastic',\n  'in',\n  'every',\n  'way',\n  'he',\n  'was',\n  'great',\n  'host',\n  'picking',\n  'us',\n  'up',\n  'at',\n  'the',\n  'bus',\n  'stop',\n  'recommending',\n  'places',\n  'to',\n  'try',\n  'leaving',\n  'plenty',\n  'of',\n  'pastries',\n  'and',\n  'other',\n  'breakfast',\n  'items',\n  'to',\n  'enjoy',\n  'in',\n  'the',\n  'morning',\n  'the',\n  'flat',\n  'itself',\n  'was',\n  'modern',\n  'bright',\n  'clean',\n  'and',\n  'spacious',\n  'and',\n  'best',\n  'of',\n  'all',\n  'right',\n  'on',\n  'bristol',\n  'lovely',\n  'harbourside',\n  'we',\n  'will',\n  'definitely',\n  'stay',\n  'again',\n  'next',\n  'time',\n  'we',\n  're',\n  'in',\n  'bristol',\n  'thanks',\n  'again',\n  'marcus'],\n ['marcus',\n  'is',\n  'brilliant',\n  'warm',\n  'and',\n  'friendly',\n  'host',\n  'he',\n  'picked',\n  'us',\n  'up',\n  'from',\n  'the',\n  'railway',\n  'station',\n  'he',\n  'took',\n  'anne',\n  'to',\n  'the',\n  'doctor',\n  'and',\n  'drove',\n  'us',\n  'around',\n  'wherever',\n  'we',\n  'needed',\n  'to',\n  'go',\n  'in',\n  'bristol',\n  'and',\n  'dropped',\n  'us',\n  'back',\n  'at',\n  'the',\n  'railway',\n  'station',\n  'when',\n  'we',\n  'were',\n  'leaving',\n  'his',\n  'flat',\n  'is',\n  'very',\n  'modern',\n  'comfortable',\n  'and',\n  'clean',\n  'and',\n  'is',\n  'very',\n  'well',\n  'heated',\n  'marcus',\n  'provided',\n  'us',\n  'with',\n  'everything',\n  'we',\n  'could',\n  'wish',\n  'for',\n  'we',\n  'wish',\n  'we',\n  'could',\n  'have',\n  'stayed',\n  'longer']]\n"
        }
      ]
    },
    {
      "cell_type": "code",
      "metadata": {
        "id": "ZTlG5-HFMXKY",
        "colab_type": "code",
        "colab": {
          "base_uri": "https://localhost:8080/",
          "height": 1000
        },
        "outputId": "e6d410a2-0cbe-4ce7-e6ef-a4c9eaa89c1b",
        "tags": [
          "outputPrepend"
        ]
      },
      "source": [
        "# see words and their frequency\n",
        "words_freq=  get_words_frequency(fitered_english_words)\n",
        "pprint(sorted(words_freq)) #  chinise words are gone."
      ],
      "execution_count": 11,
      "outputs": [
        {
          "output_type": "stream",
          "name": "stdout",
          "text": "y',\n 'unbeatable',\n 'unbeknown',\n 'unbeknownst',\n 'unbelievable',\n 'unbelievably',\n 'unbelieved',\n 'unblock',\n 'unbooked',\n 'unbreathable',\n 'unbuild',\n 'uncanny',\n 'uncared',\n 'uncaring',\n 'uncertain',\n 'uncertainty',\n 'unchanged',\n 'uncle',\n 'unclean',\n 'uncleaned',\n 'uncleanliness',\n 'unclear',\n 'uncluttered',\n 'uncomfortable',\n 'uncomfortablewe',\n 'uncomfortably',\n 'uncomfy',\n 'uncomlicated',\n 'uncommercial',\n 'uncommon',\n 'uncompliated',\n 'uncomplicated',\n 'unconcerned',\n 'unconfortable',\n 'uncontactable',\n 'unconvenient',\n 'unconventional',\n 'unconverted',\n 'unconvinced',\n 'uncooperative',\n 'uncovered',\n 'uncreased',\n 'und',\n 'undecipherable',\n 'undeniable',\n 'undeniably',\n 'under',\n 'underbed',\n 'undercharging',\n 'undercover',\n 'undercroft',\n 'underestimate',\n 'underestimated',\n 'underfall',\n 'underfill',\n 'underfloor',\n 'underfoot',\n 'undergoing',\n 'undergrad',\n 'underground',\n 'underline',\n 'underlined',\n 'underneath',\n 'underpinned',\n 'underpriced',\n 'underrated',\n 'underselling',\n 'underside',\n 'undersold',\n 'understairs',\n 'understand',\n 'understandable',\n 'understandably',\n 'understanding',\n 'understandings',\n 'understands',\n 'understated',\n 'understatement',\n 'understocked',\n 'understood',\n 'undertaken',\n 'undertand',\n 'undertheeaves',\n 'underway',\n 'underwear',\n 'underwhelmed',\n 'underwhelming',\n 'undesirable',\n 'undesirables',\n 'undeterred',\n 'undisturbed',\n 'undivided',\n 'undo',\n 'undoubtably',\n 'undoubtedly',\n 'undoubtly',\n 'undressing',\n 'unduly',\n 'une',\n 'uneasy',\n 'uneducated',\n 'uneven',\n 'uneventful',\n 'unexpected',\n 'unexpectedly',\n 'unfailingly',\n 'unfair',\n 'unfairly',\n 'unfamiliar',\n 'unfamiliarity',\n 'unfaultable',\n 'unfazed',\n 'unfilled',\n 'unfinished',\n 'unfit',\n 'unfold',\n 'unforeseeable',\n 'unforeseen',\n 'unforgetable',\n 'unforgettable',\n 'unforgiving',\n 'unfortunaley',\n 'unfortunate',\n 'unfortunatelly',\n 'unfortunately',\n 'unfortunatley',\n 'unfortunatly',\n 'unfotunately',\n 'unfounded',\n 'unfriendly',\n 'unfussy',\n 'unground',\n 'unhappy',\n 'unhealthy',\n 'unhelpful',\n 'unhesitatingly',\n 'unhindered',\n 'unhygienic',\n 'uni',\n 'uniform',\n 'unimpressed',\n 'uninformative',\n 'uninhabited',\n 'uninspiring',\n 'uninsulated',\n 'unintentionally',\n 'uninterrupted',\n 'unintrusive',\n 'uninviting',\n 'union',\n 'uniqlo',\n 'unique',\n 'uniquely',\n 'uniqueness',\n 'unis',\n 'unit',\n 'united',\n 'unitidy',\n 'units',\n 'univ',\n 'univerisity',\n 'univeristy',\n 'universal',\n 'universally',\n 'universe',\n 'universities',\n 'universitt',\n 'university',\n 'universiy',\n 'unkempt',\n 'unkept',\n 'unknown',\n 'unlabeled',\n 'unleashed',\n 'unless',\n 'unlike',\n 'unlikely',\n 'unlimited',\n 'unlit',\n 'unload',\n 'unloaded',\n 'unloading',\n 'unlock',\n 'unlockable',\n 'unlocked',\n 'unlocking',\n 'unloved',\n 'unlovely',\n 'unluckely',\n 'unlucky',\n 'unmade',\n 'unmanaged',\n 'unmarked',\n 'unmatched',\n 'unmetered',\n 'unmissable',\n 'unmopped',\n 'unnecessarily',\n 'unnecessary',\n 'unneeded',\n 'unnerved',\n 'unnerving',\n 'unnoticed',\n 'unnumbered',\n 'uno',\n 'unobstrusive',\n 'unobtrusive',\n 'unobtrusively',\n 'unoccupied',\n 'unopen',\n 'unopened',\n 'unorganised',\n 'unos',\n 'unpack',\n 'unpacking',\n 'unparalleled',\n 'unpersonally',\n 'unpictured',\n 'unplanned',\n 'unpleasant',\n 'unpleasantly',\n 'unplugged',\n 'unpractical',\n 'unprepared',\n 'unprepossessing',\n 'unproblematic',\n 'unproductive',\n 'unprofessional',\n 'unquestionably',\n 'unravel',\n 'unreachable',\n 'unreal',\n 'unrealistically',\n 'unreasonable',\n 'unreasonably',\n 'unreliable',\n 'unreservedly',\n 'unresolvable',\n 'unresolved',\n 'unresponsive',\n 'unrestricted',\n 'unrivalled',\n 'uns',\n 'unsafe',\n 'unsaid',\n 'unsanitary',\n 'unsatisfactory',\n 'unsatisfied',\n 'unsavory',\n 'unsavoury',\n 'unscheduled',\n 'unscrew',\n 'unseasonably',\n 'unseasonal',\n 'unsettling',\n 'unsightly',\n 'unsociable',\n 'unsocial',\n 'unsporty',\n 'unstable',\n 'unstayed',\n 'unsuccessfully',\n 'unsuitable',\n 'unsupervised',\n 'unsupportive',\n 'unsure',\n 'unsurpassed',\n 'unsurprising',\n 'unsurprisingly',\n 'unsuspecting',\n 'unswept',\n 'unsympathetic',\n 'untenable',\n 'untidy',\n 'until',\n 'untill',\n 'unto',\n 'untouched',\n 'untoward',\n 'unturned',\n 'unusable',\n 'unused',\n 'unusual',\n 'unusuall',\n 'unusually',\n 'unvaccumed',\n 'unversity',\n 'unwanted',\n 'unwashed',\n 'unwelcome',\n 'unwelcoming',\n 'unwell',\n 'unwide',\n 'unwilling',\n 'unwind',\n 'unwinding',\n 'unworn',\n 'uo',\n 'uob',\n 'up',\n 'upali',\n 'upand',\n 'upbeat',\n 'upcoming',\n 'upcycled',\n 'upcycling',\n 'update',\n 'updated',\n 'updates',\n 'updating',\n 'uper',\n 'upfest',\n 'upfront',\n 'upgood',\n 'upgrade',\n 'upgraded',\n 'upgrades',\n 'upgrading',\n 'upgrated',\n 'upheld',\n 'uphill',\n 'uphills',\n 'upholstered',\n 'upholstery',\n 'upkeep',\n 'upkept',\n 'uplift',\n 'uplifting',\n 'uplifts',\n 'upload',\n 'uploaded',\n 'uploading',\n 'upmarket',\n 'upmost',\n 'upon',\n 'upp',\n 'upper',\n 'uppppppp',\n 'upright',\n 'upriver',\n 'ups',\n 'upsatairs',\n 'upscale',\n 'upset',\n 'upsetting',\n 'upside',\n 'upstaged',\n 'upstairs',\n 'upto',\n 'upward',\n 'upwards',\n 'ur',\n 'urban',\n 'urge',\n 'urged',\n 'urgent',\n 'urging',\n 'urinal',\n 'urinated',\n 'urine',\n 'urself',\n 'us',\n 'usa',\n 'usability',\n 'usable',\n 'usaccommodation',\n 'usage',\n 'usb',\n 'use',\n 'useable',\n 'useage',\n 'useasiest',\n 'used',\n 'useful',\n 'usefulhe',\n 'usefull',\n 'useing',\n 'useless',\n 'user',\n 'username',\n 'users',\n 'uses',\n 'usg',\n 'using',\n 'usno',\n 'uss',\n 'usual',\n 'usually',\n 'uswe',\n 'utensil',\n 'utensils',\n 'utensilsshould',\n 'utilise',\n 'utilised',\n 'utilising',\n 'utilitarian',\n 'utilities',\n 'utility',\n 'utilizing',\n 'utmost',\n 'utter',\n 'uttered',\n 'utterly',\n 'uwe',\n 'vacacion',\n 'vacancies',\n 'vacancy',\n 'vacant',\n 'vacate',\n 'vacated',\n 'vacating',\n 'vacation',\n 'vacations',\n 'vaccum',\n 'vacuum',\n 'vacuumed',\n 'vacuuming',\n 'vagaries',\n 'vague',\n 'val',\n 'valarie',\n 'vale',\n 'valentin',\n 'valentina',\n 'valentine',\n 'valentines',\n 'valentini',\n 'valeri',\n 'valeria',\n 'valerie',\n 'vali',\n 'valid',\n 'validated',\n 'valley',\n 'vals',\n 'valuable',\n 'valuables',\n 'value',\n 'valued',\n 'valuegood',\n 'valuenice',\n 'values',\n 'valus',\n 'valve',\n 'van',\n 'vandalised',\n 'vanesa',\n 'vanessa',\n 'vanilla',\n 'vanity',\n 'vannessa',\n 'vans',\n 'vantage',\n 'var',\n 'variation',\n 'variations',\n 'variaty',\n 'varied',\n 'varies',\n 'varieties',\n 'variety',\n 'varios',\n 'various',\n 'variously',\n 'varnish',\n 'vary',\n 'varying',\n 'vas',\n 'vase',\n 'vases',\n 'vashti',\n 'vast',\n 'vastly',\n 'vat',\n 'vault',\n 'vaulted',\n 'vaults',\n 'vauxhall',\n 'vaya',\n 've',\n 'vea',\n 'vecinity',\n 'vee',\n 'veeery',\n 'veery',\n 'veey',\n 'veg',\n 'vegan',\n 'vegans',\n 'vege',\n 'vegemite',\n 'veges',\n 'vegetable',\n 'vegetables',\n 'vegetarian',\n 'vegetarians',\n 'vegfest',\n 'veggie',\n 'veggies',\n 'veggiie',\n 'vegi',\n 'vegie',\n 'vehicle',\n 'vehicles',\n 'vein',\n 'veing',\n 'veiw',\n 'veiws',\n 'velue',\n 'velux',\n 'vendor',\n 'vendors',\n 'vendy',\n 'vendys',\n 'venerable',\n 'venessa',\n 'venetian',\n 'vengeance',\n 'venison',\n 'vent',\n 'ventilated',\n 'ventilation',\n 'ventilator',\n 'ventre',\n 'vents',\n 'venture',\n 'ventured',\n 'venturing',\n 'venue',\n 'venues',\n 'ver',\n 'vera',\n 'veracity',\n 'veranda',\n 'verandah',\n 'verandas',\n 'verbal',\n 'verbally',\n 'verdant',\n 'verdict',\n 'verified',\n 'verify',\n 'veritable',\n 'verities',\n 'verity',\n 'veronica',\n 'veronicas',\n 'veronika',\n 'verrier',\n 'verrrry',\n 'verry',\n 'versa',\n 'versatile',\n 'verse',\n 'versha',\n 'version',\n 'versions',\n 'versus',\n 'vert',\n 'vertical',\n 'vertiginious',\n 'vertiginous',\n 'vertigo',\n 'very',\n 'verybad',\n 'verybnice',\n 'verycentral',\n 'verycomfortable',\n 'veryhelpfull',\n 'verymuch',\n 'vessel',\n 'vessels',\n 'vet',\n 'veterans',\n 'vets',\n 'vetted',\n 'vety',\n 'vews',\n 'vey',\n 'veyr',\n 'vfm',\n 'vga',\n 'vhs',\n 'via',\n 'viable',\n 'viaja',\n 'viaje',\n 'vibe',\n 'vibes',\n 'vibey',\n 'vibrancy',\n 'vibrant',\n 'vibrants',\n 'vibrating',\n 'vibration',\n 'vibrations',\n 'vibratoons',\n 'vibriant',\n 'vic',\n 'vice',\n 'vicinities',\n 'vicinity',\n 'vicious',\n 'vicissitudes',\n 'vicki',\n 'vicky',\n 'victoria',\n 'victorian',\n 'victoriana',\n 'victories',\n 'victory',\n 'video',\n 'videos',\n 'vienna',\n 'viepoint',\n 'vies',\n 'viet',\n 'vietnamese',\n 'vieuw',\n 'view',\n 'viewed',\n 'viewing',\n 'viewings',\n 'viewluke',\n 'views',\n 'viewsbit',\n 'viewskitchen',\n 'viewsthanks',\n 'viewtea',\n 'vigorous',\n 'viki',\n 'vikram',\n 'viktor',\n 'vile',\n 'villa',\n 'village',\n 'villageb',\n 'villages',\n 'villagey',\n 'villas',\n 'ville',\n 'villiage',\n 'vin',\n 'vinay',\n 'vince',\n 'vincent',\n 'vinegar',\n 'vino',\n 'vintage',\n 'vinyl',\n 'vinyls',\n 'violated',\n 'violent',\n 'violin',\n 'virag',\n 'virgin',\n 'virginia',\n 'virginity',\n 'virgins',\n 'virkelig',\n 'virtual',\n 'virtually',\n 'virtues',\n 'virus',\n 'viscous',\n 'visdoms',\n 'visibility',\n 'visible',\n 'visibly',\n 'vision',\n 'visit',\n 'visite',\n 'visited',\n 'visitimg',\n 'visiting',\n 'visitingat',\n 'visitins',\n 'visitng',\n 'visitor',\n 'visitors',\n 'visits',\n 'visitting',\n 'visittony',\n 'vist',\n 'vista',\n 'visting',\n 'vistiting',\n 'vistorian',\n 'vistors',\n 'visual',\n 'visually',\n 'vita',\n 'vitage',\n 'vital',\n 'vitality',\n 'vitamin',\n 'vitiage',\n 'vitoria',\n 'vittoria',\n 'vittorio',\n 'viva',\n 'vivacious',\n 'vivid',\n 'vivien',\n 'vll',\n 'vocabulary',\n 'vodafone',\n 'voice',\n 'voiced',\n 'voicemail',\n 'voicemails',\n 'voices',\n 'voila',\n 'volatile',\n 'volley',\n 'volly',\n 'volume',\n 'volumes',\n 'volunteer',\n 'volunteered',\n 'volunteers',\n 'volveria',\n 'vomit',\n 'vomited',\n 'vote',\n 'voted',\n 'vouch',\n 'voucher',\n 'vouchers',\n 'vous',\n 'vperfect',\n 'vpinn',\n 'vraiment',\n 'vry',\n 'vs',\n 'vuelvo',\n 'vulnerable',\n 'vultures',\n 'vx',\n 'wa',\n 'waa',\n 'waaaay',\n 'wach',\n 'wad',\n 'waffles',\n 'waft',\n 'wafting',\n 'wag',\n 'wagamama',\n 'wagging',\n 'waggy',\n 'wagon',\n 'waistcoat',\n 'wait',\n 'waite',\n 'waited',\n 'waiter',\n 'waiting',\n 'waitrose',\n 'waive',\n 'waived',\n 'waiving',\n 'wake',\n 'waken',\n 'wakes',\n 'wakeup',\n 'waking',\n 'wal',\n 'walakable',\n 'wales',\n 'walfish',\n 'walk',\n 'walkable',\n 'walkably',\n 'walkabout',\n 'walked',\n 'walker',\n 'walkers',\n 'walki',\n 'walkies',\n 'walkig',\n 'walkimg',\n 'walkin',\n 'walking',\n 'walks',\n 'walkside',\n 'walkthrough',\n 'walkup',\n 'walkway',\n 'walkways',\n 'wall',\n 'walled',\n 'wallet',\n 'wallfish',\n 'wallhangings',\n 'wallis',\n 'wallow',\n 'wallpaper',\n 'wallpapers',\n 'walls',\n 'wallsconclusion',\n 'wallsi',\n 'wally',\n 'walm',\n 'walmly',\n 'walnut',\n 'walt',\n 'walter',\n 'wam',\n 'wan',\n 'wand',\n 'wander',\n 'wandered',\n 'wanderers',\n 'wandering',\n 'wanderlust',\n 'wang',\n 'wanna',\n 'want',\n 'wanted',\n 'wantet',\n 'wanting',\n 'wants',\n 'wapping',\n 'war',\n 'warbrobe',\n 'ward',\n 'warden',\n 'wardens',\n 'wardrobe',\n 'wardrobes',\n 'wards',\n 'ware',\n 'warehouse',\n 'warehouses',\n 'wares',\n 'warf',\n 'warm',\n 'warmable',\n 'warme',\n 'warmed',\n 'warmely',\n 'warmer',\n 'warmers',\n 'warmest',\n 'warmfully',\n 'warmheart',\n 'warmhearted',\n 'warming',\n 'warmingly',\n 'warmish',\n 'warmlovely',\n 'warmly',\n 'warmness',\n 'warms',\n 'warmth',\n 'warmup',\n 'warmwe',\n 'warmwelcome',\n 'warmy',\n 'warn',\n 'warned',\n 'warning',\n 'warnings',\n 'warns',\n 'warp',\n 'warranted',\n 'warrants',\n 'warren',\n 'warrens',\n 'warrior',\n 'wars',\n 'warth',\n 'wary',\n 'was',\n 'wash',\n 'washbasin',\n 'washcloths',\n 'washed',\n 'washer',\n 'washers',\n 'washes',\n 'washing',\n 'washingmachine',\n 'washroom',\n 'waslking',\n 'waslovely',\n 'wasmade',\n 'wasn',\n 'wasnot',\n 'wasnt',\n 'wasperfect',\n 'wasps',\n 'waspsnot',\n 'waste',\n 'wasted',\n 'wasteful',\n 'wastepaper',\n 'wasting',\n 'wasvery',\n 'wat',\n 'watch',\n 'watched',\n 'watches',\n 'watching',\n 'watchout',\n 'water',\n 'watercress',\n 'waterfall',\n 'waterfront',\n 'watering',\n 'waterline',\n 'waterloo',\n 'waterpressure',\n 'waters',\n 'watershed',\n 'waterside',\n 'watertight',\n 'waterway',\n 'waterways',\n 'watery',\n 'watson',\n 'watts',\n 'wave',\n 'waved',\n 'waves',\n 'waving',\n 'waxed',\n 'waxing',\n 'way',\n 'wayne',\n 'ways',\n 'waz',\n 'wc',\n 'wcgreat',\n 'wcp',\n 'wd',\n 'we',\n 'weak',\n 'weaker',\n 'wealth',\n 'wealthy',\n 'weaning',\n 'wear',\n 'wearing',\n 'weary',\n 'weather',\n 'weathered',\n 'weathers',\n 'weaving',\n 'web',\n 'weber',\n 'webpage',\n 'website',\n 'websitenick',\n 'websites',\n 'weburg',\n 'weburgh',\n 'wecanmake',\n 'wecolming',\n 'wecome',\n 'wecoming',\n 'wed',\n 'wedding',\n 'weddingdespite',\n 'weddings',\n 'wedged',\n 'wednesday',\n 'weds',\n 'wee',\n 'weed',\n 'weeds',\n 'week',\n 'weekday',\n 'weekdays',\n 'weeked',\n 'weekedn',\n 'weekend',\n 'weekendeasy',\n 'weekender',\n 'weekendno',\n 'weekends',\n 'weekendthe',\n 'weekens',\n 'weekly',\n 'weeknd',\n 'weekned',\n 'weeknight',\n 'weeks',\n 'weekwnd',\n 'weel',\n 'weell',\n 'weeny',\n 'weetabix',\n 'weewendy',\n 'wehad',\n 'weight',\n 'weill',\n 'weimin',\n 'weird',\n 'weirdest',\n 'weirdly',\n 'weisia',\n 'wel',\n 'welcolming',\n 'welcom',\n 'welcome',\n 'welcomed',\n 'welcomehighly',\n 'welcomes',\n 'welcominf',\n 'welcoming',\n 'welcominggreat',\n 'welcomingly',\n 'welcomingon',\n 'welcomingthe',\n 'welcomingwill',\n 'welcomming',\n 'welfare',\n 'well',\n 'wellappointed',\n 'wellas',\n 'wellbeing',\n 'wellbourne',\n 'wellcame',\n 'wellcare',\n 'wellcome',\n 'wellcomed',\n 'wellcoming',\n 'welle',\n 'wellington',\n 'wellkept',\n 'welllocated',\n 'welllocation',\n 'wellness',\n 'wells',\n 'wellsrd',\n 'welness',\n 'welocme',\n 'welsh',\n 'wembley',\n 'wend',\n 'wendy',\n 'wendys',\n 'went',\n 'weolcome',\n 'werbergh',\n 'werberghs',\n 'werbergs',\n 'werboughs',\n 'werbugh',\n 'werbughs',\n 'werburgh',\n 'werburghs',\n 'werburgs',\n 'were',\n 'wereally',\n 'wereawesome',\n 'wereburghs',\n 'weren',\n 'werent',\n 'wern',\n 'wernt',\n 'werrbergs',\n 'wery',\n 'wes',\n 'west',\n 'westbury',\n 'westend',\n 'western',\n 'westfield',\n 'westie',\n 'weston',\n 'wet',\n 'wete',\n 'wether',\n 'wetherspoon',\n 'wetherspoons',\n 'wetroom',\n 'wetrooms',\n 'wetting',\n 'wewere',\n 'wha',\n 'whacky',\n 'whale',\n 'whapping',\n 'wharf',\n 'wharfs',\n 'what',\n 'whatever',\n 'whatnot',\n 'whats',\n 'whatsap',\n 'whatso',\n 'whatsoever',\n 'whatvwe',\n 'whe',\n 'wheat',\n 'wheather',\n 'wheel',\n 'wheelchair',\n 'wheelchairs',\n 'wheeling',\n 'wheels',\n 'whelming',\n 'when',\n 'whenever',\n 'wheni',\n 'whent',\n 'where',\n 'whereabouts',\n 'whereas',\n 'whereby',\n 'wherever',\n 'whet',\n 'whether',\n 'whevener',\n 'whey',\n 'which',\n 'whichever',\n 'whichi',\n 'whick',\n 'whiffy',\n 'whihc',\n 'whike',\n 'while',\n 'whileenyoing',\n 'whileletting',\n 'whilemy',\n 'whilst',\n 'whim',\n 'whimsical',\n 'whiniest',\n 'whining',\n 'whip',\n 'whipped',\n 'whippet',\n 'whipping',\n 'whips',\n 'whirlwind',\n 'whish',\n 'whishes',\n 'whisked',\n 'whiskey',\n 'whisks',\n 'whisper',\n 'whist',\n 'whistle',\n 'whistled',\n 'whistles',\n 'whistlestop',\n 'whistling',\n 'whit',\n 'whitchurch',\n 'white',\n 'whiteboard',\n 'whitehall',\n 'whiteladies',\n 'whitelady',\n 'whitelands',\n 'whites',\n 'whith',\n 'whitladies',\n 'whitleadies',\n 'whitout',\n 'whitty',\n 'whizzes',\n 'who',\n 'whoever',\n 'whole',\n 'wholefood',\n 'wholefoods',\n 'wholehearted',\n 'wholeheartedly',\n 'wholemeal',\n 'wholesome',\n 'wholly',\n 'whom',\n 'whoop',\n 'whopping',\n 'whort',\n 'whose',\n 'whould',\n 'whsmith',\n 'whuteladies',\n 'why',\n 'wi',\n 'wich',\n 'wick',\n 'wicked',\n 'wicker',\n 'wide',\n 'widely',\n 'wider',\n 'widescreen',\n 'widows',\n 'width',\n 'wieder',\n 'wierd',\n 'wiesia',\n 'wif',\n 'wife',\n 'wifi',\n 'wig',\n 'wiggle',\n 'wight',\n 'wih',\n 'wil',\n 'wild',\n 'wildebeest',\n 'wilderness',\n 'wildest',\n 'wildlife',\n 'wilds',\n 'wildy',\n 'wilk',\n 'wilko',\n 'wilks',\n 'will',\n 'william',\n 'willie',\n 'willing',\n 'willingly',\n 'willingness',\n 'willling',\n 'willow',\n 'willpower',\n 'wills',\n 'wilson',\n 'wilsons',\n 'wimbledon',\n 'win',\n 'wind',\n 'windhill',\n 'winding',\n 'windmill',\n 'window',\n 'windowcool',\n 'windows',\n 'windowsill',\n 'windowslovely',\n 'windrow',\n 'windscreen',\n 'windsor',\n 'windy',\n 'wine',\n 'wines',\n 'wing',\n 'wingback',\n 'wings',\n 'wining',\n 'wink',\n 'winner',\n 'winning',\n 'wins',\n 'winslet',\n 'winston',\n 'winter',\n 'winters',\n 'wintery',\n 'wintry',\n 'wip',\n 'wipe',\n 'wiped',\n 'wiper',\n 'wipes',\n 'wiping',\n 'wir',\n 'wire',\n 'wired',\n 'wireless',\n 'wires',\n 'wirh',\n 'wiring',\n 'wis',\n 'wisdom',\n 'wise',\n 'wiser',\n 'wish',\n 'wished',\n 'wishes',\n 'wishescharles',\n 'wishesjacqui',\n 'wishful',\n 'wishing',\n 'wishlist',\n 'wit',\n 'witch',\n 'with',\n 'witha',\n 'withdraw',\n 'withdrawn',\n 'withe',\n 'withheld',\n 'within',\n 'withing',\n 'withloved',\n 'withlovely',\n 'without',\n 'withouth',\n 'withtom',\n 'withywood',\n 'witin',\n 'witing',\n 'witnessed',\n 'wittily',\n 'witty',\n 'wity',\n 'witz',\n 'wkend',\n 'wlan',\n 'wld',\n 'wle',\n 'wobble',\n 'wobbling',\n 'wobbly',\n 'woderful',\n 'woderfully',\n 'wohod',\n 'woiuld',\n 'wojldr',\n 'wojtek',\n 'wok',\n 'woke',\n 'woken',\n 'woking',\n 'wokring',\n 'wold',\n 'wolfhound',\n 'wolfs',\n 'woll',\n 'wolverhampton',\n 'woman',\n 'women',\n 'won',\n 'wondeful',\n 'wonder',\n 'wonderdog',\n 'wondered',\n 'wonderfu',\n 'wonderful',\n 'wonderfull',\n 'wonderfuller',\n 'wonderfully',\n 'wonderfulplace',\n 'wonderfulstay',\n 'wonderfult',\n 'wondering',\n 'wonderland',\n 'wonders',\n 'wondorful',\n 'wonky',\n 'wont',\n 'woo',\n 'wood',\n 'woodburner',\n 'woodburning',\n 'woodchip',\n 'wooded',\n 'wooden',\n 'woodland',\n 'woodlands',\n 'woodlice',\n 'woodpecker',\n 'woods',\n 'woodwork',\n 'woof',\n 'woofs',\n 'woogie',\n 'woollen',\n 'wooly',\n 'woovered',\n 'word',\n 'worded',\n 'words',\n 'wordy',\n 'worht',\n 'work',\n 'workable',\n 'worked',\n 'worker',\n 'workers',\n 'working',\n 'workings',\n 'workmen',\n 'worknight',\n 'workout',\n 'workouts',\n 'workplace',\n 'workplaces',\n 'works',\n 'worksbut',\n 'workshop',\n 'workshops',\n 'workspace',\n 'workspaces',\n 'worksurface',\n 'worktop',\n 'worktops',\n 'worktrip',\n 'world',\n 'worldcup',\n 'worldly',\n 'worlds',\n 'worm',\n 'worn',\n 'worried',\n 'worries',\n 'worry',\n 'worrying',\n 'worryingly',\n 'worse',\n 'worst',\n 'worth',\n 'worthed',\n 'worthing',\n 'worths',\n 'worthwhile',\n 'worthy',\n 'wos',\n 'wot',\n 'woth',\n 'wou',\n 'woukd',\n 'woukdnt',\n 'woukld',\n 'would',\n 'wouldbook',\n 'wouldhighly',\n 'wouldmn',\n 'wouldn',\n 'wouldnt',\n 'wouldstay',\n 'wound',\n 'wounderful',\n 'woundful',\n 'wount',\n 'wow',\n 'wowed',\n 'wowee',\n 'wowsome',\n 'wowthe',\n 'wpuld',\n 'wqs',\n 'wr',\n 'wracking',\n 'wrangling',\n 'wrap',\n 'wrapped',\n 'wrappers',\n 'wrapping',\n 'wraps',\n 'wrasslin',\n 'wre',\n 'wrench',\n 'wrist',\n 'write',\n 'writer',\n 'writes',\n 'writhing',\n 'writing',\n 'written',\n 'wroking',\n 'wrong',\n 'wrongly',\n 'wrote',\n 'wrought',\n 'wry',\n 'ws',\n 'wsa',\n 'wss',\n 'wth',\n 'wud',\n 'wuiet',\n 'wunderful',\n 'wwii',\n 'www',\n 'wy',\n 'wye',\n 'wysiwyg',\n 'xbox',\n 'xd',\n 'xiaolong',\n 'xix',\n 'xj',\n 'xlean',\n 'xmas',\n 'xo',\n 'xoxo',\n 'xoxoxo',\n 'xperia',\n 'xperiemce',\n 'xps',\n 'xx',\n 'xxjo',\n 'xxp',\n 'xxx',\n 'xxxx',\n 'xxxxx',\n 'ya',\n 'yael',\n 'yale',\n 'yammi',\n 'yammy',\n 'yankee',\n 'yard',\n 'yards',\n 'yasmin',\n 'yay',\n 'yds',\n 'yea',\n 'yeah',\n 'year',\n 'yeards',\n 'yearly',\n 'yearn',\n 'years',\n 'yeay',\n 'yelena',\n 'yelled',\n 'yelling',\n 'yellow',\n 'yellowtail',\n 'yenchy',\n 'yepp',\n 'yer',\n 'yes',\n 'yeslike',\n 'yesterday',\n 'yesteryear',\n 'yet',\n 'yew',\n 'yhe',\n 'yhey',\n 'yhr',\n 'yippee',\n 'yiu',\n 'ymto',\n 'yo',\n 'yobike',\n 'yobikes',\n 'yoga',\n 'yogawest',\n 'yogcon',\n 'yoghourt',\n 'yoghurt',\n 'yoghurts',\n 'yogourth',\n 'yogurt',\n 'yogurts',\n 'yolk',\n 'yomp',\n 'yone',\n 'yoni',\n 'yoo',\n 'yop',\n 'york',\n 'yorkshire',\n 'yosh',\n 'yoshi',\n 'you',\n 'youbreakfast',\n 'youd',\n 'youget',\n 'youi',\n 'youll',\n 'youneed',\n 'young',\n 'younger',\n 'youngest',\n 'youngjin',\n 'youngster',\n 'youngsters',\n 'your',\n 'yourapartment',\n 'youre',\n 'yours',\n 'yourself',\n 'yourselves',\n 'yous',\n 'youth',\n 'youtheo',\n 'youthful',\n 'youths',\n 'youtube',\n 'youu',\n 'youuuu',\n 'youv',\n 'youvare',\n 'youve',\n 'yovkastrongly',\n 'yown',\n 'ypu',\n 'ypur',\n 'yr',\n 'yrds',\n 'yro',\n 'yrs',\n 'yrself',\n 'ys',\n 'ysb',\n 'yu',\n 'yuanfeng',\n 'yum',\n 'yume',\n 'yumi',\n 'yummie',\n 'yummies',\n 'yummy',\n 'yumyum',\n 'yup',\n 'yuppy',\n 'yurt',\n 'yuu',\n 'yve',\n 'yvette',\n 'yvonne',\n 'za',\n 'zafira',\n 'zag',\n 'zahid',\n 'zak',\n 'zaks',\n 'zanna',\n 'zany',\n 'zap',\n 'zapiekanka',\n 'zaza',\n 'zazu',\n 'zealand',\n 'zealous',\n 'zeb',\n 'zebbi',\n 'zebedee',\n 'zebra',\n 'zed',\n 'zee',\n 'zelda',\n 'zen',\n 'zeng',\n 'zero',\n 'zerodegrees',\n 'zest',\n 'zi',\n 'zig',\n 'ziggy',\n 'zimmer',\n 'zing',\n 'zip',\n 'zippi',\n 'zippy',\n 'zitto',\n 'zizi',\n 'zizzi',\n 'zoe',\n 'zoes',\n 'zoltan',\n 'zone',\n 'zoned',\n 'zones',\n 'zoo',\n 'zooey',\n 'zoological',\n 'zowie',\n 'zowies',\n 'zsa',\n 'zsazsa',\n 'zula',\n 'zurich',\n 'zuvorkommend',\n 'zuzanna']\n"
        }
      ]
    },
    {
      "cell_type": "code",
      "metadata": {
        "id": "JFiZxYwdO3mq",
        "colab_type": "code",
        "colab": {
          "base_uri": "https://localhost:8080/",
          "height": 1000
        },
        "outputId": "88a6173d-0333-4b94-c56d-6d0f51660dd5"
      },
      "source": [
        "# Check the most common or frequent words\n",
        "most_common_words = sorted(word_freq.items(), key=lambda x: x[1], reverse=True)\n",
        "most_common_words[:350]   # first 20 words"
      ],
      "execution_count": 12,
      "outputs": [
        {
          "output_type": "execute_result",
          "data": {
            "text/plain": "[('and', 186280),\n ('the', 154077),\n ('to', 93356),\n ('was', 73952),\n ('in', 64651),\n ('is', 63608),\n ('very', 59606),\n ('great', 49954),\n ('for', 47042),\n ('stay', 43553),\n ('we', 42815),\n ('of', 41167),\n ('with', 37414),\n ('place', 32685),\n ('it', 32402),\n ('location', 30508),\n ('lovely', 30187),\n ('you', 26730),\n ('bristol', 26587),\n ('clean', 25628),\n ('room', 22558),\n ('would', 21626),\n ('host', 20727),\n ('really', 19666),\n ('house', 19121),\n ('nice', 18825),\n ('had', 18530),\n ('comfortable', 18213),\n ('recommend', 18204),\n ('at', 17680),\n ('as', 17458),\n ('good', 16679),\n ('this', 16439),\n ('were', 16193),\n ('flat', 15887),\n ('again', 14698),\n ('our', 14624),\n ('from', 14350),\n ('on', 13921),\n ('but', 13856),\n ('us', 13653),\n ('so', 13059),\n ('home', 13057),\n ('everything', 12855),\n ('there', 12672),\n ('all', 12538),\n ('perfect', 12394),\n ('well', 12204),\n ('my', 11955),\n ('apartment', 11907),\n ('definitely', 11705),\n ('are', 11510),\n ('city', 11453),\n ('easy', 11165),\n ('friendly', 11164),\n ('an', 10379),\n ('that', 10341),\n ('have', 9944),\n ('centre', 9916),\n ('be', 9568),\n ('helpful', 9398),\n ('bed', 9173),\n ('if', 9058),\n ('highly', 8903),\n ('walk', 8593),\n ('close', 8556),\n ('quiet', 8462),\n ('which', 8393),\n ('area', 8365),\n ('welcoming', 8262),\n ('space', 8093),\n ('hosts', 8044),\n ('not', 8039),\n ('her', 7972),\n ('beautiful', 7874),\n ('time', 7772),\n ('just', 7428),\n ('also', 7205),\n ('out', 7108),\n ('made', 7033),\n ('me', 7033),\n ('she', 6954),\n ('here', 6897),\n ('will', 6807),\n ('spacious', 6705),\n ('excellent', 6537),\n ('has', 6462),\n ('thank', 6358),\n ('need', 6339),\n ('thanks', 6338),\n ('breakfast', 6325),\n ('check', 6087),\n ('fantastic', 6036),\n ('staying', 6034),\n ('back', 5966),\n ('amazing', 5918),\n ('needed', 5808),\n ('little', 5775),\n ('feel', 5752),\n ('parking', 5748),\n ('communication', 5605),\n ('warm', 5550),\n ('wonderful', 5401),\n ('night', 5298),\n ('welcome', 5253),\n ('by', 5209),\n ('enjoyed', 5188),\n ('much', 5170),\n ('can', 5145),\n ('one', 5081),\n ('like', 5064),\n ('super', 5060),\n ('only', 5058),\n ('kitchen', 5048),\n ('comfy', 5034),\n ('when', 5028),\n ('they', 4953),\n ('stayed', 4924),\n ('could', 4916),\n ('bathroom', 4908),\n ('restaurants', 4864),\n ('cosy', 4855),\n ('too', 4759),\n ('some', 4736),\n ('short', 4718),\n ('about', 4660),\n ('clifton', 4658),\n ('get', 4648),\n ('or', 4544),\n ('located', 4535),\n ('away', 4503),\n ('recommended', 4474),\n ('stylish', 4275),\n ('more', 4273),\n ('even', 4074),\n ('shops', 4064),\n ('walking', 4054),\n ('into', 4002),\n ('lots', 3992),\n ('what', 3975),\n ('family', 3891),\n ('bus', 3875),\n ('central', 3837),\n ('your', 3737),\n ('road', 3701),\n ('no', 3689),\n ('up', 3676),\n ('town', 3612),\n ('loved', 3592),\n ('than', 3591),\n ('value', 3549),\n ('street', 3512),\n ('visit', 3508),\n ('felt', 3500),\n ('around', 3455),\n ('shower', 3440),\n ('distance', 3380),\n ('weekend', 3367),\n ('provided', 3333),\n ('local', 3315),\n ('airbnb', 3301),\n ('such', 3279),\n ('next', 3277),\n ('quick', 3244),\n ('their', 3165),\n ('convenient', 3122),\n ('touches', 3099),\n ('who', 3054),\n ('coffee', 3042),\n ('garden', 3016),\n ('he', 2982),\n ('amenities', 2962),\n ('minutes', 2943),\n ('equipped', 2930),\n ('experience', 2909),\n ('right', 2905),\n ('kind', 2884),\n ('any', 2881),\n ('make', 2868),\n ('go', 2831),\n ('tidy', 2807),\n ('been', 2766),\n ('best', 2741),\n ('didn', 2729),\n ('come', 2692),\n ('people', 2681),\n ('do', 2669),\n ('find', 2665),\n ('always', 2664),\n ('tea', 2654),\n ('places', 2635),\n ('bedroom', 2631),\n ('accommodation', 2617),\n ('use', 2616),\n ('arrival', 2612),\n ('within', 2608),\n ('day', 2606),\n ('two', 2593),\n ('few', 2584),\n ('near', 2580),\n ('absolutely', 2565),\n ('plenty', 2523),\n ('being', 2509),\n ('anyone', 2500),\n ('park', 2499),\n ('big', 2472),\n ('bit', 2471),\n ('extremely', 2470),\n ('access', 2459),\n ('quite', 2450),\n ('before', 2449),\n ('accommodating', 2434),\n ('station', 2429),\n ('enough', 2415),\n ('property', 2408),\n ('bars', 2404),\n ('large', 2346),\n ('many', 2331),\n ('his', 2303),\n ('small', 2298),\n ('after', 2292),\n ('brilliant', 2282),\n ('decorated', 2242),\n ('first', 2232),\n ('minute', 2230),\n ('ideal', 2229),\n ('modern', 2212),\n ('beds', 2160),\n ('both', 2153),\n ('nearby', 2151),\n ('where', 2142),\n ('most', 2114),\n ('days', 2107),\n ('sarah', 2107),\n ('other', 2074),\n ('couldn', 2072),\n ('center', 2057),\n ('gave', 2054),\n ('over', 2019),\n ('facilities', 2018),\n ('want', 2006),\n ('visiting', 2001),\n ('view', 1986),\n ('sure', 1986),\n ('left', 1966),\n ('during', 1957),\n ('described', 1953),\n ('etc', 1948),\n ('lot', 1946),\n ('looking', 1941),\n ('morning', 1938),\n ('money', 1924),\n ('trip', 1919),\n ('having', 1918),\n ('pleasant', 1913),\n ('better', 1909),\n ('exactly', 1887),\n ('re', 1853),\n ('nights', 1846),\n ('thoughtful', 1843),\n ('private', 1838),\n ('arrived', 1820),\n ('outside', 1818),\n ('couple', 1814),\n ('cafes', 1799),\n ('love', 1797),\n ('own', 1755),\n ('sleep', 1734),\n ('way', 1722),\n ('work', 1721),\n ('far', 1709),\n ('cozy', 1699),\n ('available', 1698),\n ('homely', 1693),\n ('see', 1677),\n ('did', 1676),\n ('overall', 1662),\n ('light', 1655),\n ('things', 1650),\n ('happy', 1635),\n ('help', 1632),\n ('friends', 1630),\n ('them', 1623),\n ('milk', 1619),\n ('hospitality', 1612),\n ('return', 1607),\n ('book', 1574),\n ('itself', 1558),\n ('car', 1550),\n ('eat', 1545),\n ('bread', 1543),\n ('explore', 1541),\n ('down', 1525),\n ('free', 1521),\n ('food', 1516),\n ('ve', 1515),\n ('beautifully', 1513),\n ('spot', 1512),\n ('living', 1511),\n ('part', 1506),\n ('found', 1501),\n ('train', 1493),\n ('views', 1478),\n ('its', 1470),\n ('ever', 1468),\n ('top', 1460),\n ('peaceful', 1456),\n ('though', 1449),\n ('helen', 1449),\n ('able', 1444),\n ('appreciated', 1442),\n ('every', 1441),\n ('tips', 1433),\n ('touch', 1424),\n ('rooms', 1421),\n ('ll', 1412),\n ('pubs', 1411),\n ('exploring', 1410),\n ('interesting', 1400),\n ('door', 1400),\n ('perfectly', 1396),\n ('off', 1395),\n ('although', 1387),\n ('full', 1386),\n ('going', 1373),\n ('min', 1357),\n ('late', 1357),\n ('mins', 1349),\n ('went', 1346),\n ('questions', 1345),\n ('base', 1336),\n ('floor', 1329),\n ('got', 1316),\n ('extra', 1315),\n ('village', 1311),\n ('studio', 1297),\n ('guests', 1291),\n ('gloucester', 1290),\n ('information', 1282),\n ('don', 1273),\n ('stop', 1272),\n ('meet', 1268),\n ('long', 1260),\n ('person', 1258),\n ('hope', 1257),\n ('how', 1252),\n ('neighbourhood', 1246),\n ('bright', 1239),\n ('expected', 1238),\n ('gorgeous', 1232)]"
          },
          "metadata": {},
          "execution_count": 12
        }
      ]
    },
    {
      "cell_type": "code",
      "metadata": {
        "id": "7mpBu6UCV6At",
        "colab_type": "code",
        "colab": {
          "base_uri": "https://localhost:8080/",
          "height": 1000
        },
        "outputId": "68791ff8-51f4-4716-e426-2c3e20fe91be",
        "tags": []
      },
      "source": [
        "# see the rare words \n",
        "rare_words = sorted(word_freq.items(), key=lambda x: x[1])   # NB: word_freq is a dictionary colloction\n",
        "pprint(rare_words[:100])  # first 100 rare words"
      ],
      "execution_count": 13,
      "outputs": [
        {
          "output_type": "stream",
          "name": "stdout",
          "text": "[('chauffeur', 1),\n ('ireland', 1),\n ('foreward', 1),\n ('boatload', 1),\n ('markus', 1),\n ('cellular', 1),\n ('hovered', 1),\n ('saunter', 1),\n ('arranges', 1),\n ('availablity', 1),\n ('macus', 1),\n ('beet', 1),\n ('fraternity', 1),\n ('spotlesly', 1),\n ('guast', 1),\n ('vegfest', 1),\n ('deny', 1),\n ('wecolming', 1),\n ('strives', 1),\n ('morethe', 1),\n ('lovliness', 1),\n ('marucs', 1),\n ('esuite', 1),\n ('ridley', 1),\n ('alien', 1),\n ('prequel', 1),\n ('prometheus', 1),\n ('porriage', 1),\n ('britol', 1),\n ('banksies', 1),\n ('follies', 1),\n ('olra', 1),\n ('recomnded', 1),\n ('habla', 1),\n ('espanol', 1),\n ('sociability', 1),\n ('neighborhoody', 1),\n ('reorganized', 1),\n ('ohh', 1),\n ('arnofolni', 1),\n ('uniform', 1),\n ('exhudes', 1),\n ('assumption', 1),\n ('coexisting', 1),\n ('perfumes', 1),\n ('knocks', 1),\n ('huffy', 1),\n ('invasion', 1),\n ('cherish', 1),\n ('unpictured', 1),\n ('fernando', 1),\n ('eras', 1),\n ('tractor', 1),\n ('giuliana', 1),\n ('plumped', 1),\n ('londoners', 1),\n ('newington', 1),\n ('cookie', 1),\n ('cutter', 1),\n ('vaya', 1),\n ('guapos', 1),\n ('tagged', 1),\n ('airbn', 1),\n ('evalutions', 1),\n ('connoisseur', 1),\n ('globetrotters', 1),\n ('mistery', 1),\n ('meggy', 1),\n ('arianna', 1),\n ('photgraphs', 1),\n ('masaai', 1),\n ('tribes', 1),\n ('monpelier', 1),\n ('samatha', 1),\n ('captivated', 1),\n ('concentration', 1),\n ('collector', 1),\n ('twas', 1),\n ('flops', 1),\n ('bonkers', 1),\n ('candlelit', 1),\n ('supped', 1),\n ('prise', 1),\n ('bohemith', 1),\n ('thrift', 1),\n ('unsupervised', 1),\n ('wings', 1),\n ('gaggle', 1),\n ('ooozing', 1),\n ('eccentricity', 1),\n ('applauded', 1),\n ('nestles', 1),\n ('oohing', 1),\n ('ahing', 1),\n ('magically', 1),\n ('namur', 1),\n ('samathas', 1),\n ('accommating', 1),\n ('archaeological', 1),\n ('scuppered', 1)]\n"
        }
      ]
    },
    {
      "cell_type": "code",
      "metadata": {
        "id": "1_F6pXbYXjve",
        "colab_type": "code",
        "colab": {
          "base_uri": "https://localhost:8080/",
          "height": 54
        },
        "outputId": "aad8a399-f6da-43e5-b2d8-b2a0c4ec479d",
        "tags": []
      },
      "source": [
        "# Build the bigram & trigram models  [the model creates 2 or 3 wordy, most common occuring  phares]\n",
        "bigram = gensim.models.Phrases(fitered_english_words, min_count=5, threshold=100) # higher threshold fewer phrases.\n",
        "trigram = gensim.models.Phrases(bigram[fitered_english_words], threshold=100)  \n",
        "\n",
        "# Faster way to get a sentence clubbed as a trigram/bigram\n",
        "bigram_mod = gensim.models.phrases.Phraser(bigram)\n",
        "trigram_mod = gensim.models.phrases.Phraser(trigram)\n",
        "\n",
        "print(trigram_mod[bigram_mod[fitered_english_words[0]]])"
      ],
      "execution_count": 14,
      "outputs": [
        {
          "output_type": "stream",
          "name": "stdout",
          "text": "['our', 'stay', 'with', 'marcus', 'in', 'bristol', 'was', 'fantastic', 'in', 'every', 'way', 'he', 'was', 'great', 'host', 'picking', 'us', 'up', 'at', 'the', 'bus', 'stop', 'recommending', 'places', 'to', 'try', 'leaving', 'plenty', 'of', 'pastries', 'and', 'other', 'breakfast', 'items', 'to', 'enjoy', 'in', 'the', 'morning', 'the', 'flat', 'itself', 'was', 'modern', 'bright', 'clean', 'and', 'spacious', 'and', 'best', 'of', 'all', 'right', 'on', 'bristol', 'lovely', 'harbourside', 'we', 'will', 'definitely', 'stay', 'again', 'next', 'time', 'we', 're', 'in', 'bristol', 'thanks', 'again', 'marcus']\n"
        }
      ]
    },
    {
      "cell_type": "code",
      "metadata": {
        "id": "WTxxgiuYYHPM",
        "colab_type": "code",
        "colab": {
          "base_uri": "https://localhost:8080/",
          "height": 34
        },
        "outputId": "b13fcb23-0833-46aa-a06b-69e733250fcf",
        "tags": []
      },
      "source": [
        "from nltk.corpus import stopwords \n",
        "from nltk import pos_tag\n",
        "stop_words = stopwords.words('english')\n",
        "print('number of stop words:',len(stop_words))\n",
        "\n",
        "# define functions for stopwords, bigrams, trigrams and lemmatization\n",
        "def remove_stopwords(texts):\n",
        "    return [[word for word in simple_preprocess(str(doc)) if word not in stop_words] for doc in texts]\n",
        "\n",
        "\n",
        "\n",
        "def get_nouns_adjectives(texts):\n",
        "    ''' returns nouns(NN) and Adjectives from a the 2d lists(texts)'''\n",
        "    data = [[ word_tag_pair[0] for word_tag_pair in pos_tag(sent) if (word_tag_pair[1]=='JJ' or word_tag_pair[1]=='NN')] for sent in texts]\n",
        "    return data\n",
        "\n",
        "    \n",
        "def make_bigrams(texts):\n",
        "    return [bigram_mod[doc] for doc in texts]\n",
        "\n",
        "def make_trigrams(texts):\n",
        "    return [trigram_mod[bigram_mod[doc]] for doc in texts]\n",
        "\n",
        "\n",
        "def lemmatize_texts(texts):\n",
        "    lemmatizer = WordNetLemmatizer()\n",
        "    data_out =[]\n",
        "    for doc in texts:\n",
        "            data_out.append([lemmatizer.lemmatize(word) for word in doc])\n",
        "    return data_out "
      ],
      "execution_count": 15,
      "outputs": [
        {
          "output_type": "stream",
          "name": "stdout",
          "text": "number of stop words: 179\n"
        }
      ]
    },
    {
      "cell_type": "code",
      "metadata": {
        "id": "ihYJn6pEYKAy",
        "colab_type": "code",
        "colab": {
          "base_uri": "https://localhost:8080/",
          "height": 141
        },
        "outputId": "917f5b33-71bf-4851-930d-bfcb3e01dcdb",
        "tags": []
      },
      "source": [
        "# remove the stopwords\n",
        "data_words_nostops = remove_stopwords(fitered_english_words)\n",
        "print(\"after removing stop words:\",data_words_nostops[:2])\n",
        "\n",
        "# get the only nouns and adjectives\n",
        "noun_adj_words = get_nouns_adjectives(data_words_nostops)\n",
        "print(\"\\n\\nOnly noun and adjective words:\",noun_adj_words[:2])\n"
      ],
      "execution_count": 17,
      "outputs": [
        {
          "output_type": "stream",
          "name": "stdout",
          "text": "after removing stop words: [['stay', 'marcus', 'bristol', 'fantastic', 'every', 'way', 'great', 'host', 'picking', 'us', 'bus', 'stop', 'recommending', 'places', 'try', 'leaving', 'plenty', 'pastries', 'breakfast', 'items', 'enjoy', 'morning', 'flat', 'modern', 'bright', 'clean', 'spacious', 'best', 'right', 'bristol', 'lovely', 'harbourside', 'definitely', 'stay', 'next', 'time', 'bristol', 'thanks', 'marcus'], ['marcus', 'brilliant', 'warm', 'friendly', 'host', 'picked', 'us', 'railway', 'station', 'took', 'anne', 'doctor', 'drove', 'us', 'around', 'wherever', 'needed', 'go', 'bristol', 'dropped', 'us', 'back', 'railway', 'station', 'leaving', 'flat', 'modern', 'comfortable', 'clean', 'well', 'heated', 'marcus', 'provided', 'us', 'everything', 'could', 'wish', 'wish', 'could', 'stayed', 'longer']]\n Only noun and adjective words: [['stay', 'fantastic', 'way', 'great', 'host', 'bus', 'plenty', 'morning', 'flat', 'modern', 'bright', 'clean', 'spacious', 'right', 'bristol', 'harbourside', 'next', 'time', 'bristol', 'marcus'], ['marcus', 'brilliant', 'warm', 'picked', 'station', 'anne', 'doctor', 'wherever', 'bristol', 'railway', 'station', 'flat', 'modern', 'comfortable', 'clean', 'heated', 'marcus', 'everything', 'wish']]\n"
        }
      ]
    },
    {
      "cell_type": "code",
      "execution_count": 18,
      "metadata": {
        "tags": []
      },
      "outputs": [
        {
          "output_type": "stream",
          "name": "stdout",
          "text": "\nbigram data words: ['stay', 'fantastic', 'way', 'great', 'host', 'bus', 'plenty', 'morning', 'flat', 'modern', 'bright', 'clean', 'spacious', 'right', 'bristol', 'harbourside', 'next', 'time', 'bristol', 'marcus']\n\n\nAfter lemmatization: [['stay', 'fantastic', 'way', 'great', 'host', 'bus', 'plenty', 'morning', 'flat', 'modern', 'bright', 'clean', 'spacious', 'right', 'bristol', 'harbourside', 'next', 'time', 'bristol', 'marcus'], ['marcus', 'brilliant', 'warm', 'picked', 'station', 'anne', 'doctor', 'wherever', 'bristol', 'railway_station', 'flat', 'modern', 'comfortable', 'clean', 'heated', 'marcus', 'everything', 'wish']]\n"
        }
      ],
      "source": [
        "# create bigrams\n",
        "data_words_bigrams = make_bigrams(noun_adj_words)\n",
        "print(\"\\nbigram data words:\",data_words_bigrams[0])\n",
        "\n",
        "#  lemmatization\n",
        "lemmatized_data = lemmatize_texts(data_words_bigrams)\n",
        "print('\\n\\nAfter lemmatization:',lemmatized_data[0:2])"
      ]
    },
    {
      "cell_type": "code",
      "metadata": {
        "id": "41nuT4RodQLV",
        "colab_type": "code",
        "colab": {
          "base_uri": "https://localhost:8080/",
          "height": 363
        },
        "outputId": "3e5549f3-3c76-4d19-9497-da85ccff4db1"
      },
      "source": [
        "# after removing stop words or pre-processing : check the most common and very the rare words\n",
        "wf = get_words_frequency(lemmatized_data)\n",
        "most_common_words = sorted(wf.items(), key=lambda x: x[1], reverse=True)\n",
        "most_common_words[:20]   # first 20 words"
      ],
      "execution_count": 19,
      "outputs": [
        {
          "output_type": "execute_result",
          "data": {
            "text/plain": "[('great', 49955),\n ('place', 31728),\n ('stay', 30772),\n ('location', 30329),\n ('clean', 24612),\n ('room', 22558),\n ('bristol', 20884),\n ('host', 19193),\n ('house', 19121),\n ('comfortable', 18195),\n ('nice', 17885),\n ('good', 16611),\n ('flat', 15818),\n ('everything', 12855),\n ('home', 12424),\n ('apartment', 11695),\n ('city', 11453),\n ('easy', 10911),\n ('perfect', 10663),\n ('helpful', 9120)]"
          },
          "metadata": {},
          "execution_count": 19
        }
      ]
    },
    {
      "cell_type": "code",
      "metadata": {
        "id": "iS3EpGgifMBr",
        "colab_type": "code",
        "colab": {
          "base_uri": "https://localhost:8080/",
          "height": 1000
        },
        "outputId": "d3012f59-363f-4af0-83a4-5127b0d889fa",
        "tags": []
      },
      "source": [
        "# after removing stop words or pre-processing : check the rare words\n",
        "wf = get_words_frequency(lemmatized_data)\n",
        "rare_words = sorted(wf.items(), key=lambda x: x[1])\n",
        "rare_words_list =list(rare_words[:13500])\n",
        "print(rare_words_list[:500])"
      ],
      "execution_count": 101,
      "outputs": [
        {
          "output_type": "stream",
          "name": "stdout",
          "text": "[('chauffeur', 1), ('foreward', 1), ('boatload', 1), ('markus', 1), ('cellular', 1), ('saunter', 1), ('mastered', 1), ('availablity', 1), ('macus', 1), ('awaken', 1), ('beet', 1), ('fraternity', 1), ('guast', 1), ('deny', 1), ('morethe', 1), ('lovliness', 1), ('esuite', 1), ('impacted', 1), ('ridley', 1), ('alien', 1), ('prequel', 1), ('prometheus', 1), ('britol', 1), ('switzerland', 1), ('bedmister', 1), ('habla', 1), ('espanol', 1), ('sociability', 1), ('neighborhoody', 1), ('arnofolni', 1), ('uniform', 1), ('assumption', 1), ('perfumed', 1), ('huffy', 1), ('cherish', 1), ('fernando', 1), ('tractor', 1), ('newington', 1), ('cookie', 1), ('cutter', 1), ('vaya', 1), ('guapos', 1), ('airbn', 1), ('connoisseur', 1), ('mistery', 1), ('masaai', 1), ('samatha', 1), ('concentration', 1), ('collector', 1), ('twas', 1), ('candlelit', 1), ('prise', 1), ('bohemith', 1), ('thrift', 1), ('hazardous', 1), ('gaggle', 1), ('eccentricity', 1), ('trough', 1), ('older', 1), ('bastien', 1), ('samathas', 1), ('archaeological', 1), ('maschine', 1), ('nightshift', 1), ('crashpad', 1), ('crahspadder', 1), ('expereince', 1), ('socialse', 1), ('wojtek', 1), ('buddhist', 1), ('bilingual', 1), ('aftera', 1), ('cia', 1), ('valeria', 1), ('boast', 1), ('haouse', 1), ('toshops', 1), ('travelle', 1), ('atoz', 1), ('couse', 1), ('flannel', 1), ('pronounce', 1), ('baptist', 1), ('maia', 1), ('georgio', 1), ('bridgland', 1), ('dancer', 1), ('roomand', 1), ('welcomming', 1), ('sainsburry', 1), ('barrow', 1), ('shlep', 1), ('puplic', 1), ('doubtful', 1), ('entitled', 1), ('pastoral', 1), ('exstra', 1), ('joost', 1), ('samiwa', 1), ('wot', 1), ('camelia', 1), ('marilo', 1), ('treetop', 1), ('quaility', 1), ('fantasitic', 1), ('uncommercial', 1), ('veryhelpfull', 1), ('georg', 1), ('wooly', 1), ('chicago', 1), ('hispitable', 1), ('coburg', 1), ('pear', 1), ('yuppy', 1), ('hopw', 1), ('thal', 1), ('explorative', 1), ('becouse', 1), ('bene', 1), ('plass', 1), ('thorughout', 1), ('mildewy', 1), ('progressive', 1), ('advocate', 1), ('cheerfulness', 1), ('basset', 1), ('maddie', 1), ('diesel', 1), ('glassof', 1), ('omelet', 1), ('socializing', 1), ('omelette', 1), ('themost', 1), ('restraurant', 1), ('trainer', 1), ('benj', 1), ('benjy', 1), ('cello', 1), ('tris', 1), ('mu', 1), ('politeness', 1), ('contented', 1), ('ronda', 1), ('rutherford', 1), ('wellcare', 1), ('spectation', 1), ('supermare', 1), ('kingdom', 1), ('reccommand', 1), ('prop', 1), ('ply', 1), ('polymath', 1), ('radiology', 1), ('radiographer', 1), ('fanstastic', 1), ('elliot', 1), ('uninterrupted', 1), ('peggy', 1), ('queensland', 1), ('rio', 1), ('runabout', 1), ('immigration', 1), ('ripley', 1), ('remembering', 1), ('accompaniment', 1), ('inventive', 1), ('significance', 1), ('dentist', 1), ('united', 1), ('duster', 1), ('unquestionably', 1), ('hussel', 1), ('foodleft', 1), ('springclean', 1), ('enclosure', 1), ('secretive', 1), ('ironman', 1), ('hwret', 1), ('awareness', 1), ('grandaughter', 1), ('uniquely', 1), ('encouraged', 1), ('commentary', 1), ('easyly', 1), ('dilemma', 1), ('schooling', 1), ('anh', 1), ('hve', 1), ('norwich', 1), ('taiwan', 1), ('amazong', 1), ('squalid', 1), ('weimin', 1), ('staythe', 1), ('descrete', 1), ('differentiate', 1), ('rick', 1), ('commandeer', 1), ('ditching', 1), ('forever', 1), ('volunteered', 1), ('kk', 1), ('korea', 1), ('stickler', 1), ('integrated', 1), ('heatable', 1), ('cleverest', 1), ('istanbul', 1), ('cofortable', 1), ('redfern', 1), ('therapist', 1), ('natash', 1), ('glee', 1), ('sandro', 1), ('imelda', 1), ('felling', 1), ('runcible', 1), ('enlighten', 1), ('revsion', 1), ('taylor', 1), ('insatiable', 1), ('brenda', 1), ('centerwould', 1), ('marce', 1), ('werburgs', 1), ('sussed', 1), ('hydrated', 1), ('vperfect', 1), ('playgroup', 1), ('roomn', 1), ('snacking', 1), ('genourous', 1), ('locationwise', 1), ('tinkle', 1), ('davide', 1), ('baltic', 1), ('comprised', 1), ('earring', 1), ('cultasac', 1), ('toating', 1), ('broadmeaad', 1), ('rupsha', 1), ('ropey', 1), ('athinson', 1), ('facial', 1), ('cory', 1), ('casey', 1), ('vin', 1), ('safekey', 1), ('persone', 1), ('forma', 1), ('ventre', 1), ('splendour', 1), ('fowward', 1), ('swung', 1), ('pix', 1), ('ballloon', 1), ('fixing', 1), ('bb', 1), ('lunching', 1), ('stumbling', 1), ('digsy', 1), ('clarification', 1), ('boscos', 1), ('nettle', 1), ('eventful', 1), ('debacle', 1), ('gruffalo', 1), ('monument', 1), ('joined', 1), ('phoned', 1), ('centred', 1), ('absoltley', 1), ('gentil', 1), ('trivia', 1), ('obliging', 1), ('houseproud', 1), ('busyish', 1), ('rudeness', 1), ('stayv', 1), ('liliana', 1), ('roberta', 1), ('orderliness', 1), ('wos', 1), ('wery', 1), ('welocme', 1), ('meade', 1), ('currency', 1), ('leenient', 1), ('clientele', 1), ('desmond', 1), ('perfectlocation', 1), ('patrica', 1), ('celiac', 1), ('intension', 1), ('reccomand', 1), ('hospitiality', 1), ('documentation', 1), ('finaly', 1), ('bravo', 1), ('reigniez', 1), ('cornucopia', 1), ('commerce', 1), ('alistaire', 1), ('keralan', 1), ('thermos', 1), ('cheltonham', 1), ('poopular', 1), ('ensuing', 1), ('bookworm', 1), ('firstbus', 1), ('application', 1), ('frock', 1), ('storr', 1), ('electromagnetic', 1), ('nowadays', 1), ('reinhard', 1), ('educational', 1), ('breakf', 1), ('ast', 1), ('muc', 1), ('backgarden', 1), ('curled', 1), ('silliness', 1), ('scissored', 1), ('supplementary', 1), ('java', 1), ('makoko', 1), ('charateristic', 1), ('writing', 1), ('acurate', 1), ('stomach', 1), ('gewn', 1), ('pawel', 1), ('insured', 1), ('papito', 1), ('comportable', 1), ('singleroom', 1), ('smala', 1), ('famille', 1), ('witz', 1), ('backgammon', 1), ('practise', 1), ('rusic', 1), ('marlene', 1), ('katja', 1), ('beatrice', 1), ('germ', 1), ('accomation', 1), ('hoat', 1), ('consist', 1), ('object', 1), ('fender', 1), ('biological', 1), ('harpischord', 1), ('fooz', 1), ('escarpment', 1), ('caine', 1), ('pam', 1), ('walnut', 1), ('declutter', 1), ('explicit', 1), ('biys', 1), ('homekit', 1), ('fusball', 1), ('gurl', 1), ('nearness', 1), ('robust', 1), ('kickstart', 1), ('minimalism', 1), ('spouse', 1), ('hallelujah', 1), ('fooseball', 1), ('smiling', 1), ('kiwi', 1), ('whacky', 1), ('skillswe', 1), ('experiencewe', 1), ('familymany', 1), ('tabletennis', 1), ('logement', 1), ('rigolo', 1), ('deliiiicious', 1), ('foosball', 1), ('brexit', 1), ('ashelys', 1), ('bruno', 1), ('tout', 1), ('aha', 1), ('refined', 1), ('num', 1), ('yvette', 1), ('koszi', 1), ('tibor', 1), ('wooded', 1), ('ashleigh', 1), ('poverall', 1), ('branch', 1), ('graff', 1), ('giacomo', 1), ('printing', 1), ('apprenhensive', 1), ('render', 1), ('speaks', 1), ('rustle', 1), ('quartet', 1), ('recuparate', 1), ('lighty', 1), ('chichi', 1), ('frit', 1), ('boxed', 1), ('deelightful', 1), ('movellous', 1), ('gareth', 1), ('respective', 1), ('peron', 1), ('recommander', 1), ('marlborough', 1), ('jubilee', 1), ('springtime', 1), ('decisive', 1), ('hailstorm', 1), ('toke', 1), ('foor', 1), ('pleisure', 1), ('blister', 1), ('bac', 1), ('retrieving', 1), ('clearway', 1), ('fortuitous', 1), ('breat', 1), ('lucid', 1), ('interlocutor', 1), ('ciaran', 1), ('laught', 1), ('raspberry', 1), ('nz', 1), ('neighbohood', 1), ('sang', 1), ('knowlege', 1), ('unfounded', 1), ('barry', 1), ('boulder', 1), ('coolcoffee', 1), ('dwell', 1), ('ethnical', 1), ('ck', 1), ('pursue', 1), ('journalism', 1), ('cabbotcircus', 1), ('cya', 1), ('spicy', 1), ('intimidated', 1), ('sill', 1), ('warmish', 1), ('saggy', 1), ('yenchy', 1), ('hu', 1), ('atmosphare', 1), ('hatte', 1), ('gute', 1), ('geatwortet', 1), ('gerne', 1), ('goulding', 1), ('tomoz', 1), ('chatted', 1), ('rwc', 1), ('prohibitive', 1), ('meggie', 1), ('corwall', 1), ('tenner', 1), ('foody', 1), ('maggieshe', 1), ('wirh', 1), ('nutural', 1), ('shunsine', 1), ('pleasured', 1), ('slent', 1), ('smellt', 1), ('ro', 1), ('happu', 1), ('ianded', 1), ('spirited', 1), ('neighbourhod', 1), ('coudn', 1), ('yup', 1), ('bambi', 1), ('overheard', 1), ('amira', 1), ('settlement', 1), ('wy', 1), ('souhtern', 1), ('hiwas', 1), ('posicion', 1), ('frying', 1), ('entrepreneur', 1), ('ambition', 1), ('decontracted', 1), ('kindess', 1), ('specialty', 1)]\n"
        }
      ]
    },
    {
      "cell_type": "code",
      "metadata": {
        "id": "GcfT_QNusnWy",
        "colab_type": "code",
        "colab": {}
      },
      "source": [
        "\n",
        "def remove_rare_words(texts,words_freq):\n",
        "    '''removes the rare words'''\n",
        "    words_data = [[w for w in doc if words_freq[w]>7] for doc in texts]\n",
        "    return words_data\n"
      ],
      "execution_count": 28,
      "outputs": []
    },
    {
      "cell_type": "code",
      "metadata": {
        "id": "3Kbv4DQjoexy",
        "colab_type": "code",
        "colab": {
          "base_uri": "https://localhost:8080/",
          "height": 1000
        },
        "outputId": "6c732b29-a97f-4f94-f968-c3ccc9cb8bc9",
        "tags": []
      },
      "source": [
        "# remove the rare words from texts\n",
        "words_data = remove_rare_words(lemmatized_data,wf)\n",
        "pprint(words_data[:50])"
      ],
      "execution_count": 31,
      "outputs": [
        {
          "output_type": "stream",
          "name": "stdout",
          "text": "[['stay',\n  'fantastic',\n  'way',\n  'great',\n  'host',\n  'bus',\n  'plenty',\n  'morning',\n  'flat',\n  'modern',\n  'bright',\n  'clean',\n  'spacious',\n  'right',\n  'bristol',\n  'harbourside',\n  'next',\n  'time',\n  'bristol',\n  'marcus'],\n ['marcus',\n  'brilliant',\n  'warm',\n  'station',\n  'anne',\n  'doctor',\n  'wherever',\n  'bristol',\n  'railway_station',\n  'flat',\n  'modern',\n  'comfortable',\n  'clean',\n  'heated',\n  'marcus',\n  'everything',\n  'wish'],\n ['mum',\n  'angela',\n  'marcus',\n  'apartment',\n  'bristol',\n  'experience',\n  'confortable',\n  'nice',\n  'area',\n  'bristol',\n  'close',\n  'several',\n  'great',\n  'person',\n  'needed',\n  'generous',\n  'practical',\n  'help',\n  'relocation',\n  'company',\n  'place',\n  'special',\n  'visit',\n  'bristol'],\n ['marcus',\n  'exceptional',\n  'host',\n  'night',\n  'bristol',\n  'flat',\n  'location',\n  'harbourside',\n  'great',\n  'stay'],\n ['marcus',\n  'easy',\n  'helpful',\n  'informative',\n  'place',\n  'gorgeous',\n  'everything',\n  'great',\n  'many',\n  'interest',\n  'stay'],\n ['marcus', 'nice', 'guy', 'helpful', 'apartment', 'great'],\n ['marcus',\n  'great',\n  'host',\n  'work',\n  'stayed',\n  'nicer',\n  'person',\n  'apartment',\n  'fantastic',\n  'area',\n  'wish',\n  'time',\n  'explore',\n  'bristol',\n  'marcus',\n  'interesting',\n  'person',\n  'good',\n  'relaxed',\n  'ideal',\n  'host',\n  'favour',\n  'marcus'],\n ['marcus',\n  'real',\n  'friendly',\n  'personal',\n  'stay',\n  'place',\n  'much',\n  'hospitality',\n  'stay',\n  'place'],\n ['wow',\n  'awesome',\n  'experience',\n  'marcus',\n  'excellent',\n  'job',\n  'plan',\n  'trip',\n  'pick',\n  'airport',\n  'course',\n  'next',\n  'morning',\n  'great',\n  'bristol',\n  'excellent',\n  'location',\n  'comfortable',\n  'flat',\n  'generous',\n  'host'],\n ['wonderful',\n  'time',\n  'bristol',\n  'hospitable',\n  'helpful',\n  'host',\n  'airport',\n  'airport',\n  'visit',\n  'visit',\n  'marcus',\n  'course',\n  'bristol'],\n ['marcus',\n  'airbnb',\n  'person',\n  'nice',\n  'guy',\n  'apartment',\n  'great',\n  'central',\n  'location'],\n ['recent',\n  'night',\n  'stay',\n  'helpful',\n  'host',\n  'communication',\n  'excellent',\n  'work',\n  'living',\n  'room',\n  'whole',\n  'day',\n  'apartment',\n  'center',\n  'free',\n  'flat',\n  'clean',\n  'tidy'],\n ['space',\n  'clean',\n  'beautiful',\n  'quiet',\n  'incredible',\n  'place',\n  'fantastic',\n  'view',\n  'water',\n  'minute',\n  'walk',\n  'kind',\n  'thoughtful',\n  'helpful',\n  'balance',\n  'space',\n  'help',\n  'fantastic',\n  'conversation',\n  'balance',\n  'important',\n  'marcus',\n  'park',\n  'stay',\n  'time',\n  'bristol'],\n ['excellent',\n  'accommodation',\n  'superb',\n  'modern',\n  'apartment',\n  'harbour',\n  'easy',\n  'access',\n  'many',\n  'friendly',\n  'host',\n  'look'],\n ['much',\n  'marcus',\n  'apartment',\n  'excellent',\n  'accomodation',\n  'superb',\n  'location',\n  'harbour',\n  'marcus'],\n ['short',\n  'pleasant',\n  'stay',\n  'helpful',\n  'minute',\n  'left',\n  'flat',\n  'room',\n  'city',\n  'center',\n  'nice',\n  'neighborhood',\n  'hope',\n  'chance',\n  'day',\n  'time',\n  'explore',\n  'city',\n  'marcus',\n  'company'],\n ['first',\n  'time',\n  'airbnb',\n  'marcus',\n  'fox',\n  'house',\n  'ten',\n  'real_treat',\n  'first',\n  'moment',\n  'last',\n  'kindness',\n  'hospitality',\n  'man',\n  'great',\n  'apartment',\n  'bristol',\n  'marina',\n  'part',\n  'bristol',\n  'private',\n  'bathroom',\n  'toilet',\n  'car',\n  'lent',\n  'spare',\n  'phone',\n  'bath',\n  'car',\n  'free',\n  'charge',\n  'true',\n  'gentleman',\n  'exemplary',\n  'human',\n  'visit',\n  'friend',\n  'thank',\n  'marcus'],\n ['marcus',\n  'great',\n  'hospitality',\n  'helpful',\n  'appartment',\n  'superb',\n  'location'],\n ['pleased',\n  'experience',\n  'marcus',\n  'place',\n  'bristol',\n  'location',\n  'beautiful',\n  'next',\n  'cool',\n  'harbor',\n  'great',\n  'historic',\n  'feel',\n  'mixed',\n  'great',\n  'unit',\n  'clean',\n  'minimalistic',\n  'comfortable',\n  'marcus',\n  'host',\n  'grateful',\n  'friendly',\n  'easy',\n  'talk',\n  'helpful',\n  'regret',\n  'stay',\n  'short',\n  'hope',\n  'visit',\n  'bristol',\n  'marcus'],\n ['good'],\n ['marcus',\n  'nice',\n  'host',\n  'brother',\n  'bus',\n  'station',\n  'car',\n  'beautiful',\n  'double',\n  'bedroom',\n  'apartment',\n  'bedroom',\n  'separate',\n  'toilet',\n  'shower',\n  'full',\n  'food',\n  'cheap',\n  'price',\n  'stay',\n  'hotel',\n  'moreover',\n  'house',\n  'train_station',\n  'house',\n  'beautiful',\n  'river',\n  'view',\n  'nice',\n  'short',\n  'stay',\n  'sure',\n  'stay',\n  'visit',\n  'bristol'],\n ['stay',\n  'beautiful',\n  'apartment',\n  'place',\n  'peaceful',\n  'close',\n  'centre',\n  'city',\n  'enough',\n  'marcus',\n  'hospitable',\n  'guy',\n  'home',\n  'straight'],\n ['superb',\n  'host',\n  'apartment',\n  'wifi',\n  'great',\n  'location',\n  'place',\n  'stay',\n  'bristol'],\n ['marcus',\n  'wonderful',\n  'host',\n  'sure',\n  'everything',\n  'home',\n  'moment',\n  'drove',\n  'get',\n  'sure',\n  'knew',\n  'get',\n  'bristol',\n  'purpose',\n  'class',\n  'part',\n  'new',\n  'friend',\n  'look'],\n ['great',\n  'riverside',\n  'location',\n  'convenient',\n  'marcus',\n  'kind',\n  'friendly',\n  'helpful'],\n ['marcus',\n  'host',\n  'apartment',\n  'clean',\n  'tidy',\n  'temple',\n  'station',\n  'marcus',\n  'willing',\n  'pick',\n  'free',\n  'knowledgeable',\n  'sociable',\n  'problem',\n  'next',\n  'time',\n  'visit',\n  'bristol'],\n ['marcus',\n  'man',\n  'hope',\n  'meet',\n  'apartment',\n  'clean',\n  'spacious',\n  'lot',\n  'food'],\n ['marcus',\n  'helpful',\n  'host',\n  'modern',\n  'apartment',\n  'ground',\n  'bristol',\n  'quay',\n  'area',\n  'great',\n  'britain',\n  'local',\n  'information',\n  'get',\n  'local',\n  'transport',\n  'generous',\n  'host',\n  'meeting'],\n ['marcus',\n  'wonderful',\n  'host',\n  'easy',\n  'place',\n  'fantastic',\n  'majority',\n  'great',\n  'town',\n  'center',\n  'short',\n  'pleasant',\n  'harbour',\n  'front',\n  'sunday',\n  'small',\n  'train',\n  'balcony',\n  'need',\n  'nice',\n  'place',\n  'stay',\n  'bristol'],\n ['marcus',\n  'anyone',\n  'feel',\n  'comfortable',\n  'settled',\n  'place',\n  'perfect',\n  'location',\n  'city',\n  'centre',\n  'suggestion',\n  'cross',\n  'harbour',\n  'ferry',\n  'water',\n  'taxi',\n  'need',\n  'nice',\n  'place',\n  'nice',\n  'room',\n  'hassle',\n  'marcus',\n  'guy'],\n ['marcus',\n  'kind',\n  'wonderful',\n  'comfortable',\n  'experience',\n  'apartment',\n  'new',\n  'kept',\n  'river',\n  'harbour_side',\n  'area',\n  'marcus',\n  'hotel',\n  'experience',\n  'service',\n  'beautiful',\n  'flat',\n  'bristol',\n  'city',\n  'center',\n  'great',\n  'stay'],\n ['fantastic',\n  'apartment',\n  'huge',\n  'furnished',\n  'warm',\n  'comfortable',\n  'convenient',\n  'bristol',\n  'location',\n  'harbour_side',\n  'everything',\n  'stay',\n  'excellent',\n  'future'],\n ['time',\n  'marcus',\n  'end',\n  'train_station',\n  'perfect',\n  'willing',\n  'help',\n  'home',\n  'star',\n  'hotel',\n  'time',\n  'bristol',\n  'hesitate',\n  'see',\n  'room',\n  'available'],\n ['marcus',\n  'great',\n  'host',\n  'train_station',\n  'breakfast',\n  'several',\n  'food',\n  'flat',\n  'comfortable',\n  'convenient',\n  'location',\n  'downfall',\n  'brief',\n  'stay'],\n ['reservation'],\n ['great',\n  'stay',\n  'extra_mile',\n  'welcome',\n  'airport',\n  'apartment',\n  'good',\n  'condition',\n  'location',\n  'convenient',\n  'city'],\n ['marcus',\n  'wonderful',\n  'host',\n  'nature',\n  'work',\n  'much',\n  'listing',\n  'accurate',\n  'location',\n  'central',\n  'stay',\n  'next',\n  'time',\n  'bristol',\n  'sure',\n  'furnished',\n  'flat',\n  'marcus',\n  'feel',\n  'home'],\n ['marcus',\n  'station',\n  'welcome',\n  'apartment',\n  'great',\n  'fantastic',\n  'location',\n  'everything',\n  'marcus',\n  'flatmate',\n  'nice'],\n ['great',\n  'apartment',\n  'stay',\n  'clean',\n  'modern',\n  'spacious',\n  'enough',\n  'quick',\n  'walk',\n  'city',\n  'quiet',\n  'able',\n  'relax',\n  'host',\n  'arrival',\n  'great',\n  'care',\n  'explain',\n  'everything',\n  'flat',\n  'first',\n  'time',\n  'bristol',\n  'property'],\n ['marcus',\n  'place',\n  'kind',\n  'considerate',\n  'host',\n  'way',\n  'feel',\n  'welcome',\n  'bus',\n  'station',\n  'luggage',\n  'flexible',\n  'arrival',\n  'departure',\n  'comfortable',\n  'clean',\n  'room',\n  'everything',\n  'flat',\n  'friendly',\n  'housemate',\n  'great',\n  'location',\n  'harbour'],\n ['apartment',\n  'perfect',\n  'nice',\n  'location',\n  'car',\n  'minute',\n  'centre',\n  'communication',\n  'cleanliness',\n  'convenience',\n  'top_notch',\n  'hesitation',\n  'marcus',\n  'apartment',\n  'airbnb'],\n ['bristol',\n  'temple',\n  'station',\n  'weekend',\n  'marcus',\n  'stayed',\n  'night',\n  'marcus',\n  'flat',\n  'heading',\n  'business',\n  'trip',\n  'flat',\n  'comfortable',\n  'homey',\n  'several',\n  'several',\n  'marcus',\n  'feel',\n  'home',\n  'place',\n  'bristol',\n  'great',\n  'city',\n  'location',\n  'flat',\n  'excellent',\n  'town',\n  'marcus',\n  'airbnb',\n  'host',\n  'generous',\n  'pick',\n  'train_station',\n  'arrange',\n  'taxi',\n  'stay',\n  'return',\n  'bristol'],\n ['marcus',\n  'wonderful',\n  'station',\n  'lovely',\n  'clean',\n  'apartment',\n  'area',\n  'convenient',\n  'beautiful',\n  'harbour'],\n ['marcus',\n  'helpful',\n  'luggage',\n  'room',\n  'many',\n  'day',\n  'town',\n  'warm',\n  'welcome',\n  'nice',\n  'place',\n  'stay',\n  'room',\n  'big',\n  'access',\n  'kitchen',\n  'place',\n  'nice',\n  'clean',\n  'ensuite',\n  'big'],\n ['marcus',\n  'recommend',\n  'helpful',\n  'comfortable',\n  'home',\n  'first',\n  'time',\n  'air',\n  'family',\n  'marcus',\n  'year_old',\n  'daughter',\n  'wonderful',\n  'host'],\n ['marcus', 'nice', 'guy', 'nice', 'pick', 'station', 'friend', 'nice', 'stay'],\n ['excellent',\n  'stay',\n  'gracious',\n  'host',\n  'pick',\n  'station',\n  'walk',\n  'city',\n  'min',\n  'foot',\n  'flat',\n  'nice',\n  'room',\n  'suite',\n  'toilet',\n  'immaculate',\n  'flat',\n  'pleasant',\n  'quite',\n  'convenient',\n  'part',\n  'town',\n  'centre',\n  'lovely',\n  'time'],\n ['great',\n  'time',\n  'marcus',\n  'nice',\n  'person',\n  'easy',\n  'talk',\n  'nice',\n  'pick',\n  'station',\n  'time',\n  'use',\n  'airbnb',\n  'problem',\n  'feel',\n  'home',\n  'apartment',\n  'central',\n  'nice',\n  'neighbourhood',\n  'room',\n  'spacious',\n  'clean',\n  'dryer',\n  'etc',\n  'happy',\n  'much',\n  'marcus'],\n ['marcus',\n  'host',\n  'attentive',\n  'whilst',\n  'great',\n  'venue',\n  'environment',\n  'room',\n  'spacious',\n  'clean',\n  'great',\n  'bathroom',\n  'marcus',\n  'feel',\n  'home'],\n ['immaculate', 'flat', 'comfy', 'fluffy', 'marcus', 'feel', 'welcome']]\n"
        }
      ]
    },
    {
      "cell_type": "code",
      "metadata": {
        "id": "qkAmuR7bpv9R",
        "colab_type": "code",
        "colab": {
          "base_uri": "https://localhost:8080/",
          "height": 711
        },
        "outputId": "341ad157-22dc-4213-e705-e2507f167bdb",
        "tags": []
      },
      "source": [
        "# create dictionary\n",
        "id2word = corpora.Dictionary(words_data)\n",
        "print(\"number of keys:\",len(id2word.keys()))\n",
        "# view the first word of the dictionary\n",
        "print(id2word[0])   # see word with key =0\n",
        "\n",
        "# create corpus\n",
        "corpus_texts= words_data\n",
        "print(corpus_texts[:3])\n",
        "\n",
        "# bag of words or vector spaces\n",
        "corpus = [id2word.doc2bow(text) for text in corpus_texts]\n",
        "print(corpus[:2])\n",
        "\n",
        "# Human readable format of corpus (term-frequency)\n",
        "[[(id2word[id], freq) for id, freq in cp] for cp in corpus[:1]]"
      ],
      "execution_count": 32,
      "outputs": [
        {
          "output_type": "stream",
          "name": "stdout",
          "text": "number of keys: 3973\nbright\n[['stay', 'fantastic', 'way', 'great', 'host', 'bus', 'plenty', 'morning', 'flat', 'modern', 'bright', 'clean', 'spacious', 'right', 'bristol', 'harbourside', 'next', 'time', 'bristol', 'marcus'], ['marcus', 'brilliant', 'warm', 'station', 'anne', 'doctor', 'wherever', 'bristol', 'railway_station', 'flat', 'modern', 'comfortable', 'clean', 'heated', 'marcus', 'everything', 'wish'], ['mum', 'angela', 'marcus', 'apartment', 'bristol', 'experience', 'confortable', 'nice', 'area', 'bristol', 'close', 'several', 'great', 'person', 'needed', 'generous', 'practical', 'help', 'relocation', 'company', 'place', 'special', 'visit', 'bristol']]\n[[(0, 1), (1, 2), (2, 1), (3, 1), (4, 1), (5, 1), (6, 1), (7, 1), (8, 1), (9, 1), (10, 1), (11, 1), (12, 1), (13, 1), (14, 1), (15, 1), (16, 1), (17, 1), (18, 1)], [(1, 1), (3, 1), (5, 1), (9, 2), (10, 1), (19, 1), (20, 1), (21, 1), (22, 1), (23, 1), (24, 1), (25, 1), (26, 1), (27, 1), (28, 1), (29, 1)]]\n"
        },
        {
          "output_type": "execute_result",
          "data": {
            "text/plain": "[[('bright', 1),\n  ('bristol', 2),\n  ('bus', 1),\n  ('clean', 1),\n  ('fantastic', 1),\n  ('flat', 1),\n  ('great', 1),\n  ('harbourside', 1),\n  ('host', 1),\n  ('marcus', 1),\n  ('modern', 1),\n  ('morning', 1),\n  ('next', 1),\n  ('plenty', 1),\n  ('right', 1),\n  ('spacious', 1),\n  ('stay', 1),\n  ('time', 1),\n  ('way', 1)]]"
          },
          "metadata": {},
          "execution_count": 32
        }
      ]
    },
    {
      "cell_type": "markdown",
      "metadata": {
        "id": "GvRkH2GzqYkS",
        "colab_type": "text"
      },
      "source": [
        "How does LDA work or converge?\n",
        "`\n",
        "For each document d, compute P( topic t | document d ) := proportion of words in document d that are assigned to topic t\n",
        "For each topic t, P( word w | topic t ) := proportion of assignments to topic t that come from word w (across all documents)\n",
        "For each word w, reassign topic t’, where we choose topic t’ with probability P( topic t’ | word w ) = P( topic t’ | document d ) * P( word w | topic t’ )`"
      ]
    },
    {
      "cell_type": "code",
      "metadata": {
        "id": "28bLfPheqNEg",
        "colab_type": "code",
        "colab": {
          "base_uri": "https://localhost:8080/",
          "height": 1000
        },
        "outputId": "f3e5183d-edb6-4175-9d3d-7ce4b9cc5357",
        "tags": []
      },
      "source": [
        "import time\n",
        "start_time = time.time()\n",
        "# Build LDA model\n",
        "lda_model = gensim.models.ldamodel.LdaModel(corpus=corpus,\n",
        "                                           id2word=id2word,\n",
        "                                           num_topics=15, \n",
        "                                           random_state=100,\n",
        "                                           chunksize=2000,\n",
        "                                           passes=30,\n",
        "                                           alpha='auto',\n",
        "                                           per_word_topics=True)\n",
        "\n",
        "done_time = time.time()\n",
        "\n",
        "print(\" %.3f secs\" % (done_time - start_time))"
      ],
      "execution_count": 33,
      "outputs": [
        {
          "output_type": "stream",
          "name": "stdout",
          "text": "331.863 secs\n"
        }
      ]
    },
    {
      "cell_type": "code",
      "execution_count": 100,
      "metadata": {},
      "outputs": [],
      "source": [
        "doc_lda=lda_model[corpus]\n",
        "# doc_lda.corpus\n"
      ]
    },
    {
      "cell_type": "code",
      "metadata": {
        "id": "82MTO_SC7Mbc",
        "colab_type": "code",
        "colab": {}
      },
      "source": [
        "print(\" %.2f secs\" % (done_time - start_time))"
      ],
      "execution_count": 75,
      "outputs": []
    },
    {
      "cell_type": "code",
      "metadata": {
        "id": "LeWlD5B1yGyh",
        "colab_type": "code",
        "colab": {
          "base_uri": "https://localhost:8080/",
          "height": 708
        },
        "outputId": "221e89cc-0eb8-4c30-e29d-9accf071d240",
        "tags": []
      },
      "source": [
        "# Print top 10 keyword of each topic\n",
        "(lda_model.print_topics())\n"
      ],
      "execution_count": 102,
      "outputs": [
        {
          "output_type": "execute_result",
          "data": {
            "text/plain": "[(0,\n  '0.165*\"stylish\" + 0.099*\"thank\" + 0.083*\"road\" + 0.071*\"weekend\" + 0.070*\"need\" + 0.043*\"parking\" + 0.028*\"nearby\" + 0.024*\"noise\" + 0.023*\"thing\" + 0.022*\"gloucester\"'),\n (1,\n  '0.142*\"excellent\" + 0.108*\"value\" + 0.084*\"local\" + 0.064*\"money\" + 0.044*\"couple\" + 0.039*\"garden\" + 0.034*\"cozy\" + 0.027*\"anything\" + 0.024*\"pub\" + 0.022*\"sofa\"'),\n (2,\n  '0.086*\"time\" + 0.065*\"check\" + 0.039*\"amazing\" + 0.037*\"next\" + 0.032*\"brilliant\" + 0.032*\"experience\" + 0.031*\"airbnb\" + 0.030*\"small\" + 0.029*\"visit\" + 0.028*\"book\"'),\n (3,\n  '0.143*\"clean\" + 0.092*\"nice\" + 0.086*\"good\" + 0.080*\"comfortable\" + 0.078*\"room\" + 0.040*\"helpful\" + 0.035*\"quiet\" + 0.035*\"spacious\" + 0.025*\"bed\" + 0.025*\"cosy\"'),\n (4,\n  '0.078*\"clifton\" + 0.063*\"coffee\" + 0.039*\"tea\" + 0.032*\"pleasant\" + 0.031*\"milk\" + 0.025*\"village\" + 0.023*\"cafe\" + 0.023*\"safe\" + 0.022*\"cute\" + 0.021*\"heart\"'),\n (5,\n  '0.155*\"great\" + 0.113*\"place\" + 0.096*\"stay\" + 0.093*\"location\" + 0.063*\"host\" + 0.054*\"bristol\" + 0.048*\"flat\" + 0.046*\"apartment\" + 0.038*\"everything\" + 0.035*\"easy\"'),\n (6,\n  '0.073*\"walk\" + 0.067*\"lovely\" + 0.064*\"town\" + 0.062*\"bus\" + 0.060*\"distance\" + 0.053*\"access\" + 0.043*\"thoughtful\" + 0.037*\"many\" + 0.034*\"center\" + 0.030*\"part\"'),\n (7,\n  '0.225*\"space\" + 0.154*\"little\" + 0.051*\"plenty\" + 0.045*\"right\" + 0.039*\"available\" + 0.037*\"door\" + 0.031*\"spotless\" + 0.017*\"welcoming\" + 0.017*\"front\" + 0.016*\"key\"'),\n (8,\n  '0.128*\"home\" + 0.062*\"warm\" + 0.060*\"short\" + 0.044*\"welcome\" + 0.037*\"family\" + 0.037*\"breakfast\" + 0.028*\"feel\" + 0.022*\"spot\" + 0.021*\"trip\" + 0.020*\"sure\"'),\n (9,\n  '0.114*\"house\" + 0.074*\"city\" + 0.060*\"centre\" + 0.053*\"area\" + 0.048*\"beautiful\" + 0.029*\"kitchen\" + 0.028*\"close\" + 0.021*\"street\" + 0.018*\"kind\" + 0.017*\"much\"')]"
          },
          "metadata": {},
          "execution_count": 102
        }
      ]
    },
    {
      "cell_type": "code",
      "execution_count": 80,
      "metadata": {},
      "outputs": [],
      "source": [
        "from gensim.test.utils import common_corpus, common_dictionary, get_tmpfile\n",
        "from gensim.models import LsiModel\n",
        "\n",
        "lsi_model = LsiModel(corpus=corpus,id2word=id2word,num_topics=15,chunksize=2000,power_iters=30)  # train model\n",
        "\n",
        "\n",
        "# model.add_documents(common_corpus[4:])  # update model with new documents\n",
        "# tmp_fname = get_tmpfile(\"lsi.model\")\n",
        "# model.save(tmp_fname)  # save model\n",
        "# loaded_model = LsiModel.load(tmp_fname)  # load model"
      ]
    },
    {
      "cell_type": "code",
      "execution_count": 81,
      "metadata": {},
      "outputs": [
        {
          "output_type": "execute_result",
          "data": {
            "text/plain": "[(0,\n  '0.523*\"great\" + 0.295*\"place\" + 0.294*\"stay\" + 0.271*\"location\" + 0.211*\"clean\" + 0.210*\"room\" + 0.207*\"bristol\" + 0.178*\"house\" + 0.161*\"comfortable\" + 0.159*\"host\"'),\n (1,\n  '-0.737*\"great\" + 0.280*\"room\" + 0.244*\"house\" + -0.224*\"location\" + 0.189*\"nice\" + 0.180*\"stay\" + 0.166*\"clean\" + 0.157*\"comfortable\" + 0.150*\"place\" + 0.145*\"bristol\"'),\n (2,\n  '-0.761*\"place\" + -0.352*\"stay\" + 0.338*\"room\" + 0.290*\"house\" + 0.171*\"location\" + 0.099*\"comfortable\" + 0.092*\"clean\" + 0.081*\"good\" + 0.061*\"flat\" + 0.057*\"host\"'),\n (3,\n  '0.566*\"flat\" + -0.364*\"house\" + -0.343*\"room\" + 0.339*\"location\" + -0.301*\"great\" + 0.209*\"apartment\" + 0.195*\"bristol\" + 0.160*\"good\" + -0.123*\"place\" + 0.113*\"clean\"'),\n (4,\n  '0.766*\"stay\" + -0.449*\"place\" + -0.242*\"nice\" + -0.211*\"good\" + -0.149*\"location\" + -0.133*\"clean\" + -0.124*\"room\" + 0.105*\"home\" + 0.087*\"flat\" + 0.071*\"comfortable\"'),\n (5,\n  '-0.560*\"house\" + 0.470*\"room\" + -0.459*\"bristol\" + 0.237*\"stay\" + 0.194*\"clean\" + 0.150*\"comfortable\" + -0.139*\"city\" + 0.129*\"good\" + 0.124*\"nice\" + -0.105*\"home\"'),\n (6,\n  '-0.515*\"location\" + -0.423*\"good\" + -0.351*\"house\" + 0.328*\"bristol\" + 0.309*\"flat\" + 0.265*\"room\" + -0.231*\"stay\" + 0.146*\"great\" + -0.118*\"nice\" + 0.115*\"comfortable\"'),\n (7,\n  '-0.711*\"nice\" + -0.356*\"flat\" + 0.267*\"location\" + 0.254*\"comfortable\" + 0.211*\"clean\" + 0.164*\"home\" + 0.161*\"apartment\" + -0.131*\"great\" + 0.127*\"host\" + 0.119*\"perfect\"'),\n (8,\n  '0.572*\"clean\" + -0.452*\"bristol\" + -0.365*\"room\" + 0.262*\"house\" + 0.223*\"comfortable\" + 0.220*\"flat\" + -0.203*\"location\" + -0.194*\"good\" + 0.159*\"host\" + 0.109*\"everything\"'),\n (9,\n  '0.576*\"apartment\" + -0.466*\"flat\" + 0.397*\"nice\" + 0.239*\"clean\" + -0.209*\"good\" + 0.190*\"bristol\" + -0.173*\"place\" + -0.172*\"house\" + -0.151*\"room\" + 0.140*\"host\"'),\n (10,\n  '-0.824*\"host\" + 0.337*\"clean\" + -0.269*\"home\" + 0.135*\"bristol\" + 0.129*\"comfortable\" + 0.102*\"great\" + -0.095*\"nice\" + -0.086*\"helpful\" + -0.079*\"wonderful\" + 0.072*\"house\"'),\n (11,\n  '0.469*\"home\" + -0.439*\"good\" + -0.354*\"host\" + 0.308*\"nice\" + 0.297*\"location\" + -0.239*\"clean\" + -0.194*\"bristol\" + 0.180*\"comfortable\" + 0.157*\"everything\" + 0.136*\"perfect\"'),\n (12,\n  '-0.486*\"good\" + -0.412*\"home\" + -0.396*\"comfortable\" + 0.287*\"location\" + 0.253*\"room\" + 0.190*\"perfect\" + -0.183*\"city\" + 0.178*\"house\" + 0.157*\"clean\" + 0.141*\"flat\"'),\n (13,\n  '0.560*\"city\" + -0.440*\"bristol\" + 0.347*\"centre\" + 0.258*\"easy\" + -0.211*\"clean\" + -0.200*\"home\" + -0.186*\"good\" + 0.165*\"apartment\" + -0.153*\"nice\" + 0.124*\"everything\"'),\n (14,\n  '-0.653*\"comfortable\" + 0.532*\"home\" + 0.360*\"clean\" + -0.143*\"apartment\" + -0.124*\"bed\" + 0.123*\"city\" + -0.123*\"house\" + -0.118*\"host\" + 0.105*\"good\" + 0.095*\"everything\"')]"
          },
          "metadata": {},
          "execution_count": 81
        }
      ],
      "source": [
        "lsi_model.print_topics()"
      ]
    },
    {
      "cell_type": "markdown",
      "metadata": {
        "id": "Gp_9PftjCuFl",
        "colab_type": "text"
      },
      "source": [
        "` NB: next steps (a)interpretation of the topics,(b)visualizing the topics clusters and documents ranking...`\n",
        "--------------------\n",
        "`references`: gensim documentation "
      ]
    }
  ]
}