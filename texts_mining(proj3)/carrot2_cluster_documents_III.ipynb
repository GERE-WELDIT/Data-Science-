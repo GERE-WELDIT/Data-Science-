{
 "metadata": {
  "language_info": {
   "codemirror_mode": {
    "name": "ipython",
    "version": 3
   },
   "file_extension": ".py",
   "mimetype": "text/x-python",
   "name": "python",
   "nbconvert_exporter": "python",
   "pygments_lexer": "ipython3",
   "version": "3.7.3-final"
  },
  "orig_nbformat": 2,
  "kernelspec": {
   "name": "python37364bit38caa4ee021c465a8148750419d4c598",
   "display_name": "Python 3.7.3 64-bit"
  }
 },
 "nbformat": 4,
 "nbformat_minor": 2,
 "cells": [
  {
   "cell_type": "code",
   "execution_count": 189,
   "metadata": {
    "tags": []
   },
   "outputs": [
    {
     "output_type": "stream",
     "name": "stdout",
     "text": "['Our stay with Marcus in Bristol was fantastic in every way! He was a great '\n 'host - picking us up at the bus stop, recommending places to try, leaving '\n 'plenty of pastries and other breakfast items to enjoy in the morning. The '\n 'flat itself was modern, bright, clean and spacious - and best of all, right '\n \"on Bristol's lovely harbourside. We will definitely stay again next time \"\n \"we're in Bristol - thanks again Marcus!\",\n 'Marcus is a brilliant, warm and friendly host. He picked us up from the\\r'\n 'railway station, he took Anne to the doctor, and drove us around\\r'\n 'wherever we needed to go in Bristol and dropped us back at the \\r'\n 'railway station when we were leaving. \\r'\n 'His flat is very modern, comfortable and clean and is very well heated. \\r'\n 'Marcus provided us with everything we could wish for. \\r'\n 'We wish we could have stayed longer!!  ',\n \"My mum Angela and I have stayed at Marcus' amazing apartment for two weeks \"\n 'in August 2011, as I was relocating to Bristol. It was a lovely experience '\n 'to be his hosts. The apartment is extremely confortable and located in a '\n 'very nice area of Bristol, close to shops and several amenities. Marcus is a '\n 'great person and provided us with all we needed, plus generous tips and '\n 'practical help that made my relocation so much easier - and also fun! I '\n 'recommend his company and place. They will be two special ingredients of '\n 'your visit to Bristol and surrounding areas!']\n"
    }
   ],
   "source": [
    " import pickle\n",
    "from pprint import pprint\n",
    "import  re\n",
    "import pandas as pd\n",
    "# load the save the english comments corpus into a pickle file as a list\n",
    "pickle_in = open(\"english_comments.pickle\",\"rb\")\n",
    "english_comments = pickle.load(pickle_in)    # loads the list of comments\n",
    "pprint(english_comments[:3])"
   ]
  },
  {
   "cell_type": "code",
   "execution_count": 264,
   "metadata": {
    "tags": []
   },
   "outputs": [
    {
     "output_type": "stream",
     "name": "stdout",
     "text": "96419\n"
    }
   ],
   "source": [
    "    #remove all special characters& emojis except those in list\n",
    "   # ;!,'()\"\"\\r\n",
    "def remove_chars_emojis(texts):\n",
    "    '''removes special characters and emojis'''\n",
    "        text_data =[]\n",
    "        for doc in texts:\n",
    "            clean_doc= re.sub(\"[^a-zA-Z , . !]\",\"\",doc)\n",
    "            text_data.append(clean_doc)\n",
    "        # pprint(text_data)\n",
    "        return text_data\n",
    "\n",
    "clean_texts = remove_chars_emojis(english_comments)\n",
    "pprint(len(clean_texts))\n"
   ]
  },
  {
   "cell_type": "code",
   "execution_count": 269,
   "metadata": {
    "tags": []
   },
   "outputs": [],
   "source": [
    "def save_to_xml(texts):\n",
    "    ''' saves english text reviews into xml file '''\n",
    "    firstLine ='<?xml version=\"1.0\" encoding=\"UTF-8\"?>'\n",
    "    secondLine, lastLine = \"<searchresult>\", \"</searchresult>\"\n",
    "    open_title_tag, close_title_tag =\"<title>\", \"</title>\"\n",
    "    close_document_tag = \"</document>\"\n",
    "    file= open('clean_reviews.xml','w',encoding=\"utf-8\")\n",
    "    for index,comment in enumerate(texts):\n",
    "        if index ==0:\n",
    "            file.write(firstLine+ \"\\n\")\n",
    "            file.write(secondLine+ \"\\n\")\n",
    "        open_docoument_tag='<document id=\" {} \">'.format(index) \n",
    "        file.write(open_docoument_tag+ \"\\n\")\n",
    "        file.write(open_title_tag+ \"\\n\")\n",
    "        file.write(comment+ \"\\n\")\n",
    "        file.write(close_title_tag+ \"\\n\")\n",
    "        \n",
    "        file.write(close_document_tag+ \"\\n\")\n",
    "        if  index ==(len(texts)-1):\n",
    "            file.write(lastLine+ \"\\n\")\n",
    "            file.close()\n",
    "        "
   ]
  },
  {
   "cell_type": "code",
   "execution_count": 270,
   "metadata": {},
   "outputs": [],
   "source": [
    "save_to_xml(clean_texts[:10000])"
   ]
  },
  {
   "cell_type": "code",
   "execution_count": null,
   "metadata": {},
   "outputs": [],
   "source": []
  }
 ]
}